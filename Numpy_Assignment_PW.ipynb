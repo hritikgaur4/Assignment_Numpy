{
 "cells": [
  {
   "cell_type": "markdown",
   "id": "debb704a-5626-40b5-9791-17ce4bdac180",
   "metadata": {},
   "source": [
    "Q.1 Create a NumPy array 'arr' of integers from 0 to 5 and print its data type.\n"
   ]
  },
  {
   "cell_type": "code",
   "execution_count": 33,
   "id": "d61a0c34-cc16-4e5e-a3d2-267ab63081e5",
   "metadata": {},
   "outputs": [
    {
     "name": "stdout",
     "output_type": "stream",
     "text": [
      "Requirement already satisfied: numpy in e:\\pyhton\\lib\\site-packages (2.1.0)\n",
      "Collecting pandas\n",
      "  Downloading pandas-2.2.2-cp312-cp312-win_amd64.whl.metadata (19 kB)\n",
      "Requirement already satisfied: numpy>=1.26.0 in e:\\pyhton\\lib\\site-packages (from pandas) (2.1.0)\n",
      "Requirement already satisfied: python-dateutil>=2.8.2 in e:\\pyhton\\lib\\site-packages (from pandas) (2.9.0.post0)\n",
      "Collecting pytz>=2020.1 (from pandas)\n",
      "  Downloading pytz-2024.1-py2.py3-none-any.whl.metadata (22 kB)\n",
      "Collecting tzdata>=2022.7 (from pandas)\n",
      "  Downloading tzdata-2024.1-py2.py3-none-any.whl.metadata (1.4 kB)\n",
      "Requirement already satisfied: six>=1.5 in e:\\pyhton\\lib\\site-packages (from python-dateutil>=2.8.2->pandas) (1.16.0)\n",
      "Downloading pandas-2.2.2-cp312-cp312-win_amd64.whl (11.5 MB)\n",
      "   ---------------------------------------- 0.0/11.5 MB ? eta -:--:--\n",
      "   ---------------------------------------- 0.0/11.5 MB ? eta -:--:--\n",
      "   --- ------------------------------------ 1.0/11.5 MB 4.2 MB/s eta 0:00:03\n",
      "   -------- ------------------------------- 2.4/11.5 MB 5.0 MB/s eta 0:00:02\n",
      "   ---------- ----------------------------- 3.1/11.5 MB 5.1 MB/s eta 0:00:02\n",
      "   ------------ --------------------------- 3.7/11.5 MB 4.2 MB/s eta 0:00:02\n",
      "   ------------------ --------------------- 5.2/11.5 MB 4.6 MB/s eta 0:00:02\n",
      "   ---------------------- ----------------- 6.6/11.5 MB 4.9 MB/s eta 0:00:02\n",
      "   --------------------------- ------------ 7.9/11.5 MB 5.0 MB/s eta 0:00:01\n",
      "   ------------------------------- -------- 9.2/11.5 MB 5.2 MB/s eta 0:00:01\n",
      "   ----------------------------------- ---- 10.2/11.5 MB 5.2 MB/s eta 0:00:01\n",
      "   ------------------------------------- -- 10.7/11.5 MB 5.2 MB/s eta 0:00:01\n",
      "   ---------------------------------------  11.3/11.5 MB 4.9 MB/s eta 0:00:01\n",
      "   ---------------------------------------  11.3/11.5 MB 4.9 MB/s eta 0:00:01\n",
      "   ---------------------------------------  11.3/11.5 MB 4.9 MB/s eta 0:00:01\n",
      "   ---------------------------------------- 11.5/11.5 MB 3.8 MB/s eta 0:00:00\n",
      "Downloading pytz-2024.1-py2.py3-none-any.whl (505 kB)\n",
      "Downloading tzdata-2024.1-py2.py3-none-any.whl (345 kB)\n",
      "Installing collected packages: pytz, tzdata, pandas\n",
      "Successfully installed pandas-2.2.2 pytz-2024.1 tzdata-2024.1\n"
     ]
    }
   ],
   "source": [
    "!pip install numpy\n",
    "!pip install pandas\n"
   ]
  },
  {
   "cell_type": "code",
   "execution_count": 4,
   "id": "ff083e42-edeb-4d9a-95f7-8868ec85315f",
   "metadata": {},
   "outputs": [
    {
     "name": "stdout",
     "output_type": "stream",
     "text": [
      "Array: [0 1 2 3 4 5]\n"
     ]
    }
   ],
   "source": [
    "import numpy as np\n",
    "arr = np.arange(6)\n",
    "print(\"Array:\", arr)\n"
   ]
  },
  {
   "cell_type": "markdown",
   "id": "85b2331a-30df-47a6-b229-611008c2a6af",
   "metadata": {},
   "source": [
    "Q.2 Given a NumPy array 'arr', check if its data type is float64.\n",
    " arr = np.array([1.5, 2.6, 3.7])"
   ]
  },
  {
   "cell_type": "code",
   "execution_count": 5,
   "id": "e1640824-7577-4b5c-98aa-1d5863487781",
   "metadata": {},
   "outputs": [
    {
     "name": "stdout",
     "output_type": "stream",
     "text": [
      "True\n"
     ]
    }
   ],
   "source": [
    "import numpy as np\n",
    "arr = np.array([1.5, 2.6, 3.7])\n",
    "is_float64 = arr.dtype == np.float64\n",
    "print(is_float64)"
   ]
  },
  {
   "cell_type": "markdown",
   "id": "39fec1a8-1875-4418-832f-428d0be8e23f",
   "metadata": {},
   "source": [
    "Q.3 Create a NumPy array 'arr' with a data type of complex128 containing three complex numbers."
   ]
  },
  {
   "cell_type": "code",
   "execution_count": 6,
   "id": "6ffcc385-1e77-4246-af94-b44beaaaff11",
   "metadata": {},
   "outputs": [
    {
     "name": "stdout",
     "output_type": "stream",
     "text": [
      "[1.+2.j 3.+4.j 5.+6.j]\n",
      "complex128\n"
     ]
    }
   ],
   "source": [
    "import numpy as np\n",
    "arr = np.array([1+2j, 3+4j, 5+6j], dtype=np.complex128)\n",
    "print(arr)\n",
    "print(arr.dtype)"
   ]
  },
  {
   "cell_type": "markdown",
   "id": "780b9e66-9a7b-4265-8bcd-145c71eb14e8",
   "metadata": {},
   "source": [
    "Q.4 Convert an existing NumPy array 'arr' of integers to float32 data type."
   ]
  },
  {
   "cell_type": "code",
   "execution_count": 7,
   "id": "170a5fa9-4bcb-4b69-9330-5874c27db5bc",
   "metadata": {},
   "outputs": [
    {
     "name": "stdout",
     "output_type": "stream",
     "text": [
      "Original Array (Integer): ['1.1' '2.2' '3.3' '4.4']\n",
      "Converted Array (Float): [1.1 2.2 3.3 4.4]\n"
     ]
    }
   ],
   "source": [
    "import numpy as np\n",
    "integer_array = np.array([\"1.1\", \"2.2\", \"3.3\", \"4.4\"])\n",
    "float_array = np.array(integer_array, dtype=float)\n",
    "print(\"Original Array (Integer):\", integer_array)\n",
    "print(\"Converted Array (Float):\", float_array)\n"
   ]
  },
  {
   "cell_type": "markdown",
   "id": "e69762a2-c1a2-4649-ba31-dabf5036edbb",
   "metadata": {},
   "source": [
    "Q.5 Given a NumPy array 'arr' with float64 data type, convert it to float32 to reduce decimal precision"
   ]
  },
  {
   "cell_type": "code",
   "execution_count": 8,
   "id": "da7ca15c-d4bf-478f-925c-5358abfcbc87",
   "metadata": {},
   "outputs": [
    {
     "name": "stdout",
     "output_type": "stream",
     "text": [
      "[1. 2. 3.]\n",
      "float32\n"
     ]
    }
   ],
   "source": [
    " import numpy as np\n",
    "# Assuming 'arr' is your numpy array with float64 data type\n",
    "arr = np.array([1.0, 2.0, 3.0], dtype=np.float64)\n",
    "# Convert the array to float32\n",
    "arr_float32 = arr.astype(np.float32)\n",
    "print(arr_float32)\n",
    "print(arr_float32.dtype)\n"
   ]
  },
  {
   "cell_type": "markdown",
   "id": "de9ce6b7-f9f1-470e-94cc-94fc6dd14af6",
   "metadata": {},
   "source": [
    "Q.6 Write a function array attributes that takes a NumPy array as input and returns its shape, size, and data type."
   ]
  },
  {
   "cell_type": "code",
   "execution_count": 9,
   "id": "bbff807e-25e3-4e1e-bcd5-90004eb598f2",
   "metadata": {},
   "outputs": [
    {
     "name": "stdout",
     "output_type": "stream",
     "text": [
      "((2, 3), 6, dtype('float64'))\n"
     ]
    }
   ],
   "source": [
    "import numpy as np\n",
    "def array_attributes(arr):\n",
    "    shape = arr.shape\n",
    "    size = arr.size\n",
    "    dtype = arr.dtype\n",
    "    return shape, size, dtype\n",
    "arr = np.array([[1, 2, 3], [4, 5, 6]], dtype=np.float64)\n",
    "attributes = array_attributes(arr)\n",
    "print(attributes) \n"
   ]
  },
  {
   "cell_type": "markdown",
   "id": "efe180bf-8726-4a07-b4c6-8d39de179c80",
   "metadata": {},
   "source": [
    "Q.7 Create a function array_dimension that takes a NumPy array as input and returns its dimensionality."
   ]
  },
  {
   "cell_type": "code",
   "execution_count": 10,
   "id": "69d18cc5-8b8e-4719-b4cd-2a773477570c",
   "metadata": {},
   "outputs": [
    {
     "name": "stdout",
     "output_type": "stream",
     "text": [
      "2\n"
     ]
    }
   ],
   "source": [
    "import numpy as np\n",
    "def array_dimension(arr):\n",
    "    return arr.ndim\n",
    "arr = np.array([[1, 2, 3], [4, 5, 6]])\n",
    "dimension = array_dimension(arr)\n",
    "print(dimension) \n"
   ]
  },
  {
   "cell_type": "markdown",
   "id": "5b5a171f-04e8-479f-8213-66d4d7b5f37d",
   "metadata": {},
   "source": [
    "Q.8 Design a function item_size_info that takes a NumPy array as input and returns the item size and the total size in bytes."
   ]
  },
  {
   "cell_type": "code",
   "execution_count": 11,
   "id": "5f307e91-85b4-4287-8af1-6c0398dcdf24",
   "metadata": {},
   "outputs": [
    {
     "name": "stdout",
     "output_type": "stream",
     "text": [
      "Item size: 8 bytes\n",
      "Total size: 40 bytes\n"
     ]
    }
   ],
   "source": [
    "import numpy as np\n",
    "def item_size_info(array):\n",
    "    item_size = array.itemsize\n",
    "    total_size = array.nbytes\n",
    "    return item_size, total_size\n",
    "    \n",
    "arr = np.array([1, 2, 3, 4, 5])\n",
    "item_size, total_size = item_size_info(arr)\n",
    "print(f\"Item size: {item_size} bytes\")\n",
    "print(f\"Total size: {total_size} bytes\")\n"
   ]
  },
  {
   "cell_type": "markdown",
   "id": "68bc6d64-e293-422e-8eaa-7bd596bc5497",
   "metadata": {},
   "source": [
    "Q.9 Create a function array_strides that takes a NumPy array as input and returns the strides of the array."
   ]
  },
  {
   "cell_type": "code",
   "execution_count": 12,
   "id": "24bbff96-dda9-4d95-92d9-8f575493fbac",
   "metadata": {},
   "outputs": [
    {
     "name": "stdout",
     "output_type": "stream",
     "text": [
      "(24, 8)\n"
     ]
    }
   ],
   "source": [
    "import numpy as np\n",
    "def array_strides(arr):\n",
    "    return arr.strides\n",
    "arr = np.array([[1, 2, 3], [4, 5, 6]])\n",
    "print(array_strides(arr))  \n"
   ]
  },
  {
   "cell_type": "markdown",
   "id": "415005f0-e79d-4c2c-a755-17fc2db5cd81",
   "metadata": {},
   "source": [
    "Q.10 Design a function shape_stride_relationship that takes a NumPy array as input and returns the shape and strides of the array."
   ]
  },
  {
   "cell_type": "code",
   "execution_count": 13,
   "id": "d72eacaf-d131-4142-8dab-530b1abed78d",
   "metadata": {},
   "outputs": [
    {
     "name": "stdout",
     "output_type": "stream",
     "text": [
      "Shape: (2, 3)\n",
      "Strides: (24, 8)\n"
     ]
    }
   ],
   "source": [
    "import numpy as np\n",
    "def shape_stride_relationship(array):\n",
    "    shape = array.shape\n",
    "    strides = array.strides\n",
    "    return shape, strides\n",
    "\n",
    "arr = np.array([[1, 2, 3], [4, 5, 6]])\n",
    "shape, strides = shape_stride_relationship(arr)\n",
    "print(\"Shape:\", shape)\n",
    "print(\"Strides:\", strides)\n"
   ]
  },
  {
   "cell_type": "markdown",
   "id": "64a274e2-4656-4145-a8ef-f7146963da83",
   "metadata": {},
   "source": [
    "Q.11 Create a function `create_zeros_array` that takes an integer `n` as input and returns a NumPy array of zeros with `n` elements."
   ]
  },
  {
   "cell_type": "code",
   "execution_count": 14,
   "id": "ef5cc618-c3d0-4e4d-b3d8-a161e3942e67",
   "metadata": {},
   "outputs": [
    {
     "name": "stdout",
     "output_type": "stream",
     "text": [
      "[0. 0. 0. 0. 0.]\n"
     ]
    }
   ],
   "source": [
    " import numpy as np\n",
    "def create_zeros_array(n):\n",
    "    return np.zeros(n)\n",
    "    \n",
    "n = 5\n",
    "zeros_array = create_zeros_array(n)\n",
    "print(zeros_array)\n"
   ]
  },
  {
   "cell_type": "markdown",
   "id": "4af551df-44e5-4dc5-8adf-1ef981beea02",
   "metadata": {},
   "source": [
    "Q.12 Write a function `create_ones_matrix` that takes integers `rows` and `cols` as inputs and generates a 2D NumPy array filled with ones of size `rows x cols`."
   ]
  },
  {
   "cell_type": "code",
   "execution_count": 15,
   "id": "d0b7db09-78a9-4829-81fc-9723e71753e3",
   "metadata": {},
   "outputs": [
    {
     "name": "stdout",
     "output_type": "stream",
     "text": [
      "[[1. 1. 1. 1.]\n",
      " [1. 1. 1. 1.]\n",
      " [1. 1. 1. 1.]]\n"
     ]
    }
   ],
   "source": [
    "import numpy as np\n",
    "def create_ones_matrix(rows, cols):\n",
    "    \"\"\"\n",
    "    Create a 2D NumPy array filled with ones.\n",
    "    Parameters:\n",
    "    rows (int): Number of rows in the matrix.\n",
    "    cols (int): Number of columns in the matrix.\n",
    "    Returns:\n",
    "    np.ndarray: A 2D array of shape (rows, cols) filled with ones.\n",
    "    \"\"\"\n",
    "    return np.ones((rows, cols))\n",
    "    \n",
    "matrix = create_ones_matrix(3, 4)\n",
    "print(matrix)\n"
   ]
  },
  {
   "cell_type": "markdown",
   "id": "a8339f37-e7a2-41e8-bc40-35b7d29eb0a2",
   "metadata": {},
   "source": [
    "Q.13 Write a function `generate_range_array` that takes three integers start, stop, and step as arguments and creates a NumPy array with a range starting from `start`, ending at stop (exclusive), and with the specified `step`."
   ]
  },
  {
   "cell_type": "code",
   "execution_count": 16,
   "id": "b19150b5-653c-4236-bada-6f48ca9bde38",
   "metadata": {},
   "outputs": [
    {
     "name": "stdout",
     "output_type": "stream",
     "text": [
      "[0 2 4 6 8]\n"
     ]
    }
   ],
   "source": [
    " import numpy as np\n",
    "def generate_range_array(start, stop, step):\n",
    "    return np.arange(start, stop, step)\n",
    "\n",
    "array = generate_range_array(0, 10, 2)\n",
    "print(array)\n"
   ]
  },
  {
   "cell_type": "markdown",
   "id": "20dabf1f-f22b-4e53-91fe-109cc612ebc2",
   "metadata": {},
   "source": [
    "Q.14 Create a function `create_identity_matrix` that takes an integer `n` as input and generates a square identity matrix of size `n x n` using `numpy.eye`."
   ]
  },
  {
   "cell_type": "code",
   "execution_count": 17,
   "id": "0f8f2e9b-3ced-43b4-b9d2-acedeffe9d22",
   "metadata": {},
   "outputs": [
    {
     "name": "stdout",
     "output_type": "stream",
     "text": [
      "[[1. 0. 0. 0.]\n",
      " [0. 1. 0. 0.]\n",
      " [0. 0. 1. 0.]\n",
      " [0. 0. 0. 1.]]\n"
     ]
    }
   ],
   "source": [
    " import numpy as np\n",
    "def create_identity_matrix(n):\n",
    "    return np.eye(n)\n",
    "\n",
    "n = 4\n",
    "identity_matrix = create_identity_matrix(n)\n",
    "print(identity_matrix)\n"
   ]
  },
  {
   "cell_type": "markdown",
   "id": "d894bdcf-4e07-4497-b80b-70a871ea368b",
   "metadata": {},
   "source": [
    "Q.15 Create a function `create_identity_matrix` that takes an integer `n` as input and generates a square identity matrix of size `n x n` using `numpy.eye`."
   ]
  },
  {
   "cell_type": "code",
   "execution_count": 18,
   "id": "726aaa51-c1be-4f14-a475-2b1daf7dc837",
   "metadata": {},
   "outputs": [
    {
     "name": "stdout",
     "output_type": "stream",
     "text": [
      "[[1. 0. 0. 0.]\n",
      " [0. 1. 0. 0.]\n",
      " [0. 0. 1. 0.]\n",
      " [0. 0. 0. 1.]]\n"
     ]
    }
   ],
   "source": [
    "import numpy as np\n",
    "def create_identity_matrix(n):\n",
    "    return np.eye(n)\n",
    "\n",
    "n = 4\n",
    "identity_matrix = create_identity_matrix(n)\n",
    "print(identity_matrix)\n"
   ]
  },
  {
   "cell_type": "markdown",
   "id": "3be172fb-b721-49ba-9aea-9b6c1ee86b04",
   "metadata": {},
   "source": [
    "Q.16 Write a function that takes a Python list and converts it into a NumPy array."
   ]
  },
  {
   "cell_type": "code",
   "execution_count": 19,
   "id": "1d6cfb0c-9f59-48b5-8ca2-e42d7b597cd1",
   "metadata": {},
   "outputs": [
    {
     "name": "stdout",
     "output_type": "stream",
     "text": [
      "[1 2 3 4 5]\n"
     ]
    }
   ],
   "source": [
    "import numpy as np\n",
    "def list_to_numpy_array(lst):\n",
    "    return np.array(lst)\n",
    "\n",
    "my_list = [1, 2, 3, 4, 5]\n",
    "my_array = list_to_numpy_array(my_list)\n",
    "print(my_array)\n"
   ]
  },
  {
   "cell_type": "markdown",
   "id": "b72516af-39d2-44fb-b8a9-45a8d1a005ce",
   "metadata": {},
   "source": [
    "Q.17 Create a NumPy array and demonstrate the use of `numpy.view` to create a new array object with the same data."
   ]
  },
  {
   "cell_type": "code",
   "execution_count": 20,
   "id": "05c689a0-1ea0-4685-bcbc-39311a7b4466",
   "metadata": {},
   "outputs": [
    {
     "name": "stdout",
     "output_type": "stream",
     "text": [
      "Original array: [42  2  3  4  5]\n",
      "View array: [42  2  3  4  5]\n"
     ]
    }
   ],
   "source": [
    "import numpy as np\n",
    "# Create a NumPy array\n",
    "original_array = np.array([1, 2, 3, 4, 5])\n",
    "# Create a view of the original array\n",
    "view_array = original_array.view()\n",
    "# Modify the original array\n",
    "original_array[0] = 42\n",
    "# Print both arrays to see the effect\n",
    "print(\"Original array:\", original_array)\n",
    "print(\"View array:\", view_array)\n"
   ]
  },
  {
   "cell_type": "markdown",
   "id": "6022afc2-9c28-4301-81be-01fe7c277315",
   "metadata": {},
   "source": [
    "Q.18 Write a function that takes two NumPy arrays and concatenates them along a specified axis."
   ]
  },
  {
   "cell_type": "code",
   "execution_count": 21,
   "id": "8b7b64c2-aef4-465b-bb2b-d2d162d6308d",
   "metadata": {},
   "outputs": [
    {
     "name": "stdout",
     "output_type": "stream",
     "text": [
      "[[1 2]\n",
      " [3 4]\n",
      " [5 6]]\n"
     ]
    }
   ],
   "source": [
    "import numpy as np\n",
    "def concatenate_arrays(arr1, arr2, axis=0):\n",
    "    \"\"\"\n",
    "    Concatenates two NumPy arrays along the specified axis.\n",
    "    Args:\n",
    "        arr1 (np.ndarray): First array.\n",
    "        arr2 (np.ndarray): Second array.\n",
    "        axis (int, optional): Axis along which to concatenate. Default is 0 (vertical concatenation).\n",
    "    Returns:\n",
    "        np.ndarray: Concatenated array.\n",
    "    \"\"\"\n",
    "    return np.concatenate((arr1, arr2), axis=axis)\n",
    "# Example usage:\n",
    "a = np.array([[1, 2], [3, 4]])\n",
    "b = np.array([[5, 6]])\n",
    "result = concatenate_arrays(a, b, axis=0)\n",
    "print(result)\n"
   ]
  },
  {
   "cell_type": "markdown",
   "id": "1bba707c-b2ef-4b1e-9cb2-9876c4563af8",
   "metadata": {},
   "source": [
    "Q.19 Create two NumPy arrays with different shapes and concatenate them horizontally using `numpy. Concatenate’."
   ]
  },
  {
   "cell_type": "code",
   "execution_count": 22,
   "id": "a8ebb631-e7de-4dcd-afd9-028396156295",
   "metadata": {},
   "outputs": [
    {
     "name": "stdout",
     "output_type": "stream",
     "text": [
      "[[ 1  2  3  7  8]\n",
      " [ 4  5  6  9 10]]\n"
     ]
    }
   ],
   "source": [
    "import numpy as np\n",
    "# Create two NumPy arrays with different shapes\n",
    "array1 = np.array([[1, 2, 3], [4, 5, 6]])\n",
    "array2 = np.array([[7, 8], [9, 10]])\n",
    "# Concatenate the arrays horizontally\n",
    "result = np.concatenate((array1, array2), axis=1)\n",
    "print(result)\n"
   ]
  },
  {
   "cell_type": "markdown",
   "id": "2f10ced7-85e7-47f5-8c9c-f730fb8ef1c8",
   "metadata": {},
   "source": [
    "Q.20 Write a function that vertically stacks multiple NumPy arrays given as a list."
   ]
  },
  {
   "cell_type": "code",
   "execution_count": 25,
   "id": "dd6f08b6-5b60-42e5-9cf5-dd49e5266479",
   "metadata": {},
   "outputs": [],
   "source": [
    "import numpy as np\n",
    "def vertical_stack(arrays):\n",
    "    \"\"\"\n",
    "    Vertically stack multiple NumPy arrays given as a list.\n",
    "    Parameters:\n",
    "    arrays (list of np.ndarray): List of NumPy arrays to be stacked.\n",
    "    Returns:\n",
    "    np.ndarray: Vertically stacked array.\"\"\"\n",
    "    return np.vstack(arrays)\n",
    "# Example usage:\n",
    "array1 = np\n"
   ]
  },
  {
   "cell_type": "markdown",
   "id": "2bee7b7f-5653-4fa5-9dab-6c8c5a7a03e9",
   "metadata": {},
   "source": [
    "Q.21 Write a Python function using NumPy to create an array of integers within a specified range (inclusive) with a given step size."
   ]
  },
  {
   "cell_type": "code",
   "execution_count": 26,
   "id": "c1331f16-43fb-4cad-8ea4-b51821319257",
   "metadata": {},
   "outputs": [
    {
     "name": "stdout",
     "output_type": "stream",
     "text": [
      "[1 3 5 7 9]\n"
     ]
    }
   ],
   "source": [
    "import numpy as np\n",
    "def create_integer_array(start, stop, step):\n",
    "    \"\"\"\n",
    "    Create an array of integers within a specified range with a given step size.\n",
    "    Parameters:\n",
    "    start (int): The starting value of the range.\n",
    "    stop (int): The end value of the range (inclusive).\n",
    "    step (int): The step size between each value in the range.\n",
    "    Returns:\n",
    "    numpy.ndarray: An array of integers within the specified range.\n",
    "    \"\"\"\n",
    "    return np.arange(start, stop + 1, step)\n",
    "# Example usage:\n",
    "array = create_integer_array(1, 10, 2)\n",
    "print(array)\n"
   ]
  },
  {
   "cell_type": "markdown",
   "id": "ca4ca43e-cace-4098-bd5b-13051d35780f",
   "metadata": {},
   "source": [
    "Q.22 Write a Python function using NumPy to generate an array of 10 equally spaced values between 0 and 1 (inclusive)."
   ]
  },
  {
   "cell_type": "code",
   "execution_count": 27,
   "id": "d392ecb0-0f07-4b92-b3d0-651d7936ff3d",
   "metadata": {},
   "outputs": [
    {
     "name": "stdout",
     "output_type": "stream",
     "text": [
      "[0.         0.11111111 0.22222222 0.33333333 0.44444444 0.55555556\n",
      " 0.66666667 0.77777778 0.88888889 1.        ]\n"
     ]
    }
   ],
   "source": [
    "import numpy as np\n",
    "def generate_equally_spaced_values():\n",
    "    return np.linspace(0, 1, 10)\n",
    "\n",
    "values = generate_equally_spaced_values()\n",
    "print(values)\n"
   ]
  },
  {
   "cell_type": "markdown",
   "id": "c6a8f16d-1b77-4b82-ad56-4d38aa5f413b",
   "metadata": {},
   "source": [
    "Q.23 Write a Python function using NumPy to create an array of 5 logarithmically spaced values between 1 and 1000 (inclusive)."
   ]
  },
  {
   "cell_type": "code",
   "execution_count": 28,
   "id": "df4f4417-c7fe-4ac0-b3a3-654f40608e62",
   "metadata": {},
   "outputs": [
    {
     "name": "stdout",
     "output_type": "stream",
     "text": [
      "[   1.            5.62341325   31.6227766   177.827941   1000.        ]\n"
     ]
    }
   ],
   "source": [
    "import numpy as np\n",
    "def create_log_space_array():\n",
    "    \n",
    "    log_space_array = np.logspace(0, 3, num=5)\n",
    "    return log_space_array\n",
    "\n",
    "array = create_log_space_array()\n",
    "print(array)\n"
   ]
  },
  {
   "cell_type": "markdown",
   "id": "c9a23c5c-2a34-4992-a4ca-b424a5a8af8f",
   "metadata": {},
   "source": [
    "Q.24 Create a Pandas DataFrame using a NumPy array that contains 5 rows and 3 columns, where the values are random integers between 1 and 100."
   ]
  },
  {
   "cell_type": "code",
   "execution_count": 35,
   "id": "dca14a13-e595-42fd-b77b-ae8f66a0ceaf",
   "metadata": {},
   "outputs": [
    {
     "name": "stdout",
     "output_type": "stream",
     "text": [
      "   Column1  Column2  Column3\n",
      "0       24       83       41\n",
      "1        5       47        4\n",
      "2       23       74       78\n",
      "3       45       92       88\n",
      "4        6       92       36\n"
     ]
    }
   ],
   "source": [
    "import numpy as np\n",
    "import pandas as pd\n",
    "\n",
    "array = np.random.randint(1, 101, size=(5, 3))\n",
    "\n",
    "df = pd.DataFrame(array, columns=['Column1', 'Column2', 'Column3'])\n",
    "\n",
    "print(df)\n",
    "\n"
   ]
  },
  {
   "cell_type": "markdown",
   "id": "c36b7b9a-d85c-4269-9495-d028dbdbdd2c",
   "metadata": {},
   "source": [
    "Q.25 Write a function that takes a Pandas DataFrame and replaces all negative values in a specific column with zeros. Use NumPy operations within the Pandas DataFrame."
   ]
  },
  {
   "cell_type": "code",
   "execution_count": 34,
   "id": "1a1678ee-16c2-4faf-86e4-1a8973b47090",
   "metadata": {},
   "outputs": [
    {
     "name": "stdout",
     "output_type": "stream",
     "text": [
      "Original DataFrame:\n",
      "   A  B\n",
      "0  1  5\n",
      "1 -2 -6\n",
      "2  3  7\n",
      "3 -4 -8\n",
      "4  5  9\n",
      "\n",
      "DataFrame after replacing negatives in column 'A' with zeros:\n",
      "   A  B\n",
      "0  1  5\n",
      "1  0 -6\n",
      "2  3  7\n",
      "3  0 -8\n",
      "4  5  9\n"
     ]
    }
   ],
   "source": [
    "import pandas as pd\n",
    "import numpy as np\n",
    "def replace_negatives_with_zeros(df, column_name):\n",
    "    df[column_name] = np.where(df[column_name] < 0, 0, df[column_name])\n",
    "    return df\n",
    "\n",
    "\n",
    "data = {'A': [1, -2, 3, -4, 5], 'B': [5, -6, 7, -8, 9]}\n",
    "df = pd.DataFrame(data)\n",
    "print(\"Original DataFrame:\")\n",
    "print(df)\n",
    "df = replace_negatives_with_zeros(df, 'A')\n",
    "print(\"\\nDataFrame after replacing negatives in column 'A' with zeros:\")\n",
    "print(df)\n"
   ]
  },
  {
   "cell_type": "markdown",
   "id": "a872586d-5beb-4231-ba45-d7d3714d56b4",
   "metadata": {},
   "source": [
    "Q.26 Access the 3rd element from the given NumPy array. "
   ]
  },
  {
   "cell_type": "code",
   "execution_count": 37,
   "id": "330103dd-d1a8-4c55-85a2-5bfc47364443",
   "metadata": {},
   "outputs": [
    {
     "name": "stdout",
     "output_type": "stream",
     "text": [
      "30\n"
     ]
    }
   ],
   "source": [
    "\n",
    "import numpy as np\n",
    "arr = np.array([10, 20, 30, 40, 50])\n",
    "third_element = arr[2]\n",
    "print(third_element)\n"
   ]
  },
  {
   "cell_type": "markdown",
   "id": "cb27d29f-80d4-4879-a495-1b1796a4b35e",
   "metadata": {},
   "source": [
    "Q.27 Retrieve the element at index (1, 2) from the 2D NumPy array. \n",
    "arr_2d = np.array([[1, 2, 3], [4, 5, 6],[7, 8, 9]])"
   ]
  },
  {
   "cell_type": "code",
   "execution_count": 38,
   "id": "b8bcb61c-af91-4b8b-ad9b-6e08594575fc",
   "metadata": {},
   "outputs": [
    {
     "name": "stdout",
     "output_type": "stream",
     "text": [
      "6\n"
     ]
    }
   ],
   "source": [
    "import numpy as np\n",
    "arr_2d = np.array([[1, 2, 3], [4, 5, 6], [7, 8, 9]])\n",
    "element = arr_2d[1, 2]\n",
    "print(element)"
   ]
  },
  {
   "cell_type": "markdown",
   "id": "349d8813-f308-4600-b39c-8006c5a57e35",
   "metadata": {},
   "source": [
    "Q.28 Using boolean indexing, extract elements greater than 5 from the given NumPy array. \n",
    "arr = np.array([3, 8, 2, 10, 5, 7])"
   ]
  },
  {
   "cell_type": "code",
   "execution_count": 39,
   "id": "f7c3b2ed-bc52-4b87-8b8f-fbcc4504a6ef",
   "metadata": {},
   "outputs": [
    {
     "name": "stdout",
     "output_type": "stream",
     "text": [
      "[ 8 10  7]\n"
     ]
    }
   ],
   "source": [
    "import numpy as np\n",
    "# Given array\n",
    "arr = np.array([3, 8, 2, 10, 5, 7])\n",
    "# Boolean indexing to extract elements greater than 5\n",
    "result = arr[arr > 5]\n",
    "print(result)\n"
   ]
  },
  {
   "cell_type": "markdown",
   "id": "f2ce6356-9a44-47fb-96e9-9ff31bf2de9b",
   "metadata": {},
   "source": [
    "Q.29 Perform basic slicing to extract elements from index 2 to 5 (inclusive) from the given NumPy array. \n",
    "arr = np.array([1, 2, 3, 4, 5, 6, 7, 8, 9])"
   ]
  },
  {
   "cell_type": "code",
   "execution_count": 40,
   "id": "49b546f5-1acb-4cd2-ad94-7e35804992d6",
   "metadata": {},
   "outputs": [
    {
     "name": "stdout",
     "output_type": "stream",
     "text": [
      "[3 4 5 6]\n"
     ]
    }
   ],
   "source": [
    "import numpy as np\n",
    "arr = np.array([1, 2, 3, 4, 5, 6, 7, 8, 9])\n",
    "sliced_arr = arr[2:6]  # Slicing from index 2 to 5 (inclusive)\n",
    "print(sliced_arr)\n"
   ]
  },
  {
   "cell_type": "code",
   "execution_count": null,
   "id": "a164e683-ea0b-4e27-b285-7531f1dd5ae4",
   "metadata": {},
   "outputs": [],
   "source": [
    "Q.30 Slice the 2D NumPy array to extract the sub-array `[[2, 3], [5, 6]]` from the given array. \n",
    "arr_2d = np.array([[1, 2, 3], [4, 5, 6], [7, 8, 9]])"
   ]
  },
  {
   "cell_type": "code",
   "execution_count": 41,
   "id": "7ca28924-e657-4506-94bd-8c5bd689fde1",
   "metadata": {},
   "outputs": [
    {
     "name": "stdout",
     "output_type": "stream",
     "text": [
      "[[2 3]\n",
      " [5 6]]\n"
     ]
    }
   ],
   "source": [
    "import numpy as np\n",
    "arr_2d = np.array([[1, 2, 3], \n",
    "                   [4, 5, 6], \n",
    "                   [7, 8, 9]])\n",
    "# Slicing to get the desired sub-array\n",
    "sub_array = arr_2d[0:2, 1:3]\n",
    "print(sub_array)\n"
   ]
  },
  {
   "cell_type": "markdown",
   "id": "0d7e5aea-2575-4918-b480-aec3b7d8efdd",
   "metadata": {},
   "source": [
    "Q.31 Write a NumPy function to extract elements in specific order from a given 2D array based on indices provided in another array."
   ]
  },
  {
   "cell_type": "code",
   "execution_count": 42,
   "id": "e8c06684-b1e6-47ce-b423-4249a8428999",
   "metadata": {},
   "outputs": [
    {
     "name": "stdout",
     "output_type": "stream",
     "text": [
      "[1 5 9]\n"
     ]
    }
   ],
   "source": [
    "import numpy as np\n",
    "def extract_elements(arr, indices):\n",
    "    \"\"\"\n",
    "    Extract elements from a 2D array based on provided indices.\n",
    "    Parameters:\n",
    "    arr (numpy.ndarray): The input 2D array.\n",
    "    indices (numpy.ndarray): The array of indices.\n",
    "    Returns:\n",
    "    numpy.ndarray: The extracted elements in the specified order.\n",
    "    \"\"\"\n",
    "    return np.take(arr, indices)\n",
    "# Example usage:\n",
    "arr = np.array([[1, 2, 3], [4, 5, 6], [7, 8, 9]])\n",
    "indices = np.array([0, 4, 8])\n",
    "result = extract_elements(arr, indices)\n",
    "print(result)\n"
   ]
  },
  {
   "cell_type": "markdown",
   "id": "f70330e6-b2f6-48f3-a71d-dad4ff9339a2",
   "metadata": {},
   "source": [
    "Q.32  Create a NumPy function that filters elements greater than a threshold from a given 1D array using boolean indexing"
   ]
  },
  {
   "cell_type": "code",
   "execution_count": 45,
   "id": "c7e1adf8-9c97-4a93-8938-86ca78609adb",
   "metadata": {},
   "outputs": [
    {
     "name": "stdout",
     "output_type": "stream",
     "text": [
      "[4 5]\n"
     ]
    }
   ],
   "source": [
    "import numpy as np\n",
    "def filter_greater_than_threshold(arr, threshold):\n",
    "    return arr[arr > threshold]\n",
    "# Example usage:\n",
    "arr = np.array([1, 2, 3, 4, 5])\n",
    "threshold = 3\n",
    "filtered_arr = filter_greater_than_threshold(arr, threshold)\n",
    "print(filtered_arr)  # Output: [4 5]\n",
    "\n"
   ]
  },
  {
   "cell_type": "markdown",
   "id": "20ef8e81-3330-4113-a70e-4bb2db07f343",
   "metadata": {},
   "source": [
    "Q.33 Develop a NumPy function that extracts specific elements from a 3D array using indices provided in three separate arrays for each dimension."
   ]
  },
  {
   "cell_type": "code",
   "execution_count": 46,
   "id": "97bab096-5719-4bbc-9617-930cdac46165",
   "metadata": {},
   "outputs": [
    {
     "name": "stdout",
     "output_type": "stream",
     "text": [
      "Original 3D array:\n",
      " [[[40 40  8 59]\n",
      "  [69 88 72 71]\n",
      "  [43 44 31 55]\n",
      "  [47 29 13 47]]\n",
      "\n",
      " [[99  4  6 68]\n",
      "  [11 97 11 68]\n",
      "  [44 99 30 96]\n",
      "  [94 20 75  2]]\n",
      "\n",
      " [[15 47 82 53]\n",
      "  [39 87 42 91]\n",
      "  [71 17 59 21]\n",
      "  [98 56 94 27]]\n",
      "\n",
      " [[29 84 45 94]\n",
      "  [ 2 31 83 12]\n",
      "  [90 66  1 11]\n",
      "  [56 95  2 48]]]\n",
      "Extracted elements:\n",
      " [72 96 56]\n"
     ]
    }
   ],
   "source": [
    "import numpy as np\n",
    "def extract_elements_3d(array, depth_indices, row_indices, col_indices):\n",
    "    \n",
    "    # Ensure the indices arrays are numpy arrays\n",
    "    depth_indices = np.asarray(depth_indices)\n",
    "    row_indices = np.asarray(row_indices)\n",
    "    col_indices = np.asarray(col_indices)\n",
    "    # Use advanced indexing to extract the elements\n",
    "    extracted_elements = array[depth_indices, row_indices, col_indices]\n",
    "    \n",
    "    return extracted_elements\n",
    "\n",
    "array_3d = np.random.randint(0, 100, size=(4, 4, 4))\n",
    "depth_indices = np.array([0, 1, 2])\n",
    "row_indices = np.array([1, 2, 3])\n",
    "col_indices = np.array([2, 3, 1])\n",
    "extracted_elements = extract_elements_3d(array_3d, depth_indices, row_indices, col_indices)\n",
    "print(\"Original 3D array:\\n\", array_3d)\n",
    "print(\"Extracted elements:\\n\", extracted_elements)\n"
   ]
  },
  {
   "cell_type": "markdown",
   "id": "1380f457-735e-4752-ac92-d0cbc6e03461",
   "metadata": {},
   "source": [
    "Q.34 Write a NumPy function that returns elements from an array where both two conditions are satisfied using boolean indexing."
   ]
  },
  {
   "cell_type": "code",
   "execution_count": 47,
   "id": "6930d74e-6109-47cb-952d-4d9f4405ed5a",
   "metadata": {},
   "outputs": [
    {
     "name": "stdout",
     "output_type": "stream",
     "text": [
      "[4 5 6 7]\n"
     ]
    }
   ],
   "source": [
    "import numpy as np\n",
    "def filter_array(arr, condition1, condition2):\n",
    "    \n",
    "    return arr[condition1 & condition2]\n",
    "\n",
    "arr = np.array([1, 2, 3, 4, 5, 6, 7, 8, 9, 10])\n",
    "condition1 = arr > 3\n",
    "condition2 = arr < 8\n",
    "filtered_arr = filter_array(arr, condition1, condition2)\n",
    "print(filtered_arr)  # Output: [4 5 6 7]\n"
   ]
  },
  {
   "cell_type": "markdown",
   "id": "ad308614-b08a-408a-b84d-a89e73ad044a",
   "metadata": {},
   "source": [
    "Q35. Create a NumPy function that extracts elements from a 2D array using row and column indices provided in separate arrays."
   ]
  },
  {
   "cell_type": "code",
   "execution_count": 48,
   "id": "1d11797c-2c22-4cb7-bb4a-0b52474f63ca",
   "metadata": {},
   "outputs": [
    {
     "name": "stdout",
     "output_type": "stream",
     "text": [
      "[20 60 70]\n"
     ]
    }
   ],
   "source": [
    "import numpy as np\n",
    "def extract_elements(arr, row_indices, col_indices):\n",
    "    \n",
    "    return arr[row_indices, col_indices]\n",
    "\n",
    "arr = np.array([[10, 20, 30], [40, 50, 60], [70, 80, 90]])\n",
    "row_indices = np.array([0, 1, 2])\n",
    "col_indices = np.array([1, 2, 0])\n",
    "extracted_elements = extract_elements(arr, row_indices, col_indices)\n",
    "print(extracted_elements)  # Output: [20 60 70]\n"
   ]
  },
  {
   "cell_type": "markdown",
   "id": "9d676ad1-64ff-49a4-8561-7590d3030c3e",
   "metadata": {},
   "source": [
    "Q. 36 Given an array arr of shape (3, 3), add a scalar value of 5 to each element using NumPy broadcasting."
   ]
  },
  {
   "cell_type": "code",
   "execution_count": 49,
   "id": "616b63fe-b3de-4f13-8d66-2297aa34fa34",
   "metadata": {},
   "outputs": [
    {
     "name": "stdout",
     "output_type": "stream",
     "text": [
      "[[ 6  7  8]\n",
      " [ 9 10 11]\n",
      " [12 13 14]]\n"
     ]
    }
   ],
   "source": [
    "import numpy as np\n",
    "# Create a 3x3 array\n",
    "arr = np.array([[1, 2, 3],\n",
    "                [4, 5, 6],\n",
    "                [7, 8, 9]])\n",
    "# Add scalar value 5 to each element\n",
    "result = arr + 5\n",
    "print(result)\n"
   ]
  },
  {
   "cell_type": "markdown",
   "id": "95d102f5-7f9e-4fd6-8173-7f846ed3a465",
   "metadata": {},
   "source": [
    "Q.37 Consider two arrays arr1 of shape (1, 3) and arr2 of shape (3, 4). Multiply each row of arr2 by the corresponding element in arr1 using NumPy broadcasting."
   ]
  },
  {
   "cell_type": "code",
   "execution_count": 50,
   "id": "c9c53c87-4472-48dd-b04f-4ae5e0dd3255",
   "metadata": {},
   "outputs": [
    {
     "name": "stdout",
     "output_type": "stream",
     "text": [
      "[[ 4  5  6  7]\n",
      " [16 18 20 22]\n",
      " [36 39 42 45]]\n"
     ]
    }
   ],
   "source": [
    "import numpy as np\n",
    "# Define the arrays\n",
    "arr1 = np.array([[1, 2, 3]])\n",
    "arr2 = np.array([[4, 5, 6, 7],\n",
    "                 [8, 9, 10, 11],\n",
    "                 [12, 13, 14, 15]])\n",
    "# Multiply each row of arr2 by the corresponding element in arr1\n",
    "result = arr2 * arr1.T\n",
    "print(result)\n"
   ]
  },
  {
   "cell_type": "markdown",
   "id": "e86c04f5-e845-4d27-8ccc-bd737c27d2ff",
   "metadata": {},
   "source": [
    "Q.38 Given a 1D array arr1 of shape (1, 4) and a 2D array arr2 of shape (4, 3), add arr1 to each row of arr2 using NumPy broadcasting."
   ]
  },
  {
   "cell_type": "code",
   "execution_count": 51,
   "id": "41ba32b4-f979-4f30-a1a2-58c35049984e",
   "metadata": {},
   "outputs": [
    {
     "name": "stdout",
     "output_type": "stream",
     "text": [
      "[[ 6  7  8]\n",
      " [10 11 12]\n",
      " [14 15 16]\n",
      " [18 19 20]]\n"
     ]
    }
   ],
   "source": [
    "import numpy as np\n",
    "arr1 = np.array([[1, 2, 3, 4]])  # Shape (1, 4)\n",
    "arr2 = np.array([[5, 6, 7], [8, 9, 10], [11, 12, 13], [14, 15, 16]])  # Shape (4, 3)\n",
    "\n",
    "arr1_reshaped = arr1.T  \n",
    "# Add arr1 to each row of arr2\n",
    "result = arr2 + arr1_reshaped\n",
    "print(result)\n"
   ]
  },
  {
   "cell_type": "markdown",
   "id": "88ae9ee7-9f52-4383-81e6-54598495a853",
   "metadata": {},
   "source": [
    "Q.39 Consider two arrays arr1 of shape (3, 1) and arr2 of shape (1, 3). Add these arrays using NumPy broadcasting. "
   ]
  },
  {
   "cell_type": "code",
   "execution_count": 52,
   "id": "4abd1947-f89d-42d4-bf25-0ce375080884",
   "metadata": {},
   "outputs": [
    {
     "name": "stdout",
     "output_type": "stream",
     "text": [
      "[[5 6 7]\n",
      " [6 7 8]\n",
      " [7 8 9]]\n"
     ]
    }
   ],
   "source": [
    "import numpy as np\n",
    "# Define the arrays\n",
    "arr1 = np.array([[1], [2], [3]])\n",
    "arr2 = np.array([[4, 5, 6]])\n",
    "# Add the arrays using broadcasting\n",
    "result = arr1 + arr2\n",
    "print(result)\n"
   ]
  },
  {
   "cell_type": "markdown",
   "id": "8afdec2e-9acd-490e-af9b-216df434c9d2",
   "metadata": {},
   "source": [
    "Q.40 Given arrays arr1 of shape (2, 3) and arr2 of shape (2, 2), perform multiplication using NumPy broadcasting. Handle the shape incompatibility"
   ]
  },
  {
   "cell_type": "code",
   "execution_count": 54,
   "id": "855d9c01-a883-4952-917f-42daaa984617",
   "metadata": {},
   "outputs": [
    {
     "name": "stdout",
     "output_type": "stream",
     "text": [
      "arr1:\n",
      " [[8 3 8]\n",
      " [3 9 3]]\n",
      "arr2:\n",
      " [[7 8]\n",
      " [6 7]]\n",
      "arr2 reshaped:\n",
      " [[[7]\n",
      "  [8]]\n",
      "\n",
      " [[6]\n",
      "  [7]]]\n",
      "Result:\n",
      " [[[56 21 56]\n",
      "  [24 72 24]]\n",
      "\n",
      " [[48 18 48]\n",
      "  [21 63 21]]]\n"
     ]
    }
   ],
   "source": [
    "import numpy as np\n",
    "\n",
    "# Define the arrays\n",
    "arr1 = np.random.randint(1, 10, (2, 3))\n",
    "arr2 = np.random.randint(1, 10, (2, 2))\n",
    "\n",
    "# Reshape arr2 to make it compatible for broadcasting\n",
    "arr2_reshaped = arr2[:, :, np.newaxis]\n",
    "\n",
    "# Perform the multiplication\n",
    "result = arr1 * arr2_reshaped\n",
    "\n",
    "# Display the arrays and the result\n",
    "print(\"arr1:\\n\", arr1)\n",
    "print(\"arr2:\\n\", arr2)\n",
    "print(\"arr2 reshaped:\\n\", arr2_reshaped)\n",
    "print(\"Result:\\n\", result)\n",
    "\n"
   ]
  },
  {
   "cell_type": "markdown",
   "id": "97446ff6-f71f-4feb-b68d-748654ae3549",
   "metadata": {},
   "source": [
    "Q.41 Calculate column-wise mean for the given array\n",
    "arr = np.array([[1, 2, 3], [4, 5, 6]]) "
   ]
  },
  {
   "cell_type": "code",
   "execution_count": 56,
   "id": "6e32664c-10d5-44fc-a4e3-6d65c50c781b",
   "metadata": {},
   "outputs": [
    {
     "name": "stdout",
     "output_type": "stream",
     "text": [
      "[2.5 3.5 4.5]\n"
     ]
    }
   ],
   "source": [
    "import numpy as np\n",
    "arr = np.array([[1, 2, 3], [4, 5, 6]])\n",
    "column_mean = np.mean(arr, axis=0)\n",
    "print(column_mean)\n"
   ]
  },
  {
   "cell_type": "markdown",
   "id": "524ac996-f0dd-4649-b53a-d13b8ba1d525",
   "metadata": {},
   "source": [
    "Q.42 Find maximum value in each row of the given array: \n",
    "arr = np.array([[1, 2, 3], [4, 5, 6]])\n"
   ]
  },
  {
   "cell_type": "code",
   "execution_count": 57,
   "id": "40eee24e-3747-4f5f-9d94-ee4ba07ef6de",
   "metadata": {},
   "outputs": [
    {
     "name": "stdout",
     "output_type": "stream",
     "text": [
      "[3 6]\n"
     ]
    }
   ],
   "source": [
    "import numpy as np\n",
    "arr = np.array([[1, 2, 3], [4, 5, 6]])\n",
    "row_max = np.max(arr, axis=1)\n",
    "print(row_max)\n"
   ]
  },
  {
   "cell_type": "markdown",
   "id": "fae6fdd6-eee8-4a7c-8669-7b91ae70b064",
   "metadata": {},
   "source": [
    "Q.43 For the given array, find indices of maximum value in each column. \n",
    "arr = np.array([[1, 2, 3], [4, 5, 6]])"
   ]
  },
  {
   "cell_type": "code",
   "execution_count": 58,
   "id": "faffcf34-6b95-4583-8956-604b3fb2a5b9",
   "metadata": {},
   "outputs": [
    {
     "name": "stdout",
     "output_type": "stream",
     "text": [
      "[1 1 1]\n"
     ]
    }
   ],
   "source": [
    "import numpy as np\n",
    "arr = np.array([[1, 2, 3], [4, 5, 6]])\n",
    "column_max_indices = np.argmax(arr, axis=0)\n",
    "print(column_max_indices)\n"
   ]
  },
  {
   "cell_type": "code",
   "execution_count": null,
   "id": "009a4315-bbd1-4858-8a43-abed5a6dbf18",
   "metadata": {},
   "outputs": [],
   "source": [
    "Q.44 For the given array, apply custom function to calculate moving sum along rows. \n",
    "arr = np.array([[1, 2, 3], [4, 5, 6]])\n"
   ]
  },
  {
   "cell_type": "code",
   "execution_count": 60,
   "id": "308926d7-e695-466f-b240-dcd3c48869c8",
   "metadata": {},
   "outputs": [
    {
     "name": "stdout",
     "output_type": "stream",
     "text": [
      "Original array:\n",
      " [[1 2 3]\n",
      " [4 5 6]]\n",
      "Moving sum along rows with window size 2:\n",
      "[[ 1  3  5]\n",
      " [ 4  9 11]]\n"
     ]
    }
   ],
   "source": [
    "import numpy as np\n",
    "\n",
    "# Define the array\n",
    "arr = np.array([[1, 2, 3], [4, 5, 6]])\n",
    "\n",
    "# Define a custom function to calculate the moving sum along rows\n",
    "def moving_sum(arr, window_size):\n",
    "    result = np.zeros_like(arr)\n",
    "    for i in range(arr.shape[0]):\n",
    "        for j in range(arr.shape[1]):\n",
    "            start = max(0, j - window_size + 1)\n",
    "            result[i, j] = np.sum(arr[i, start:j+1])\n",
    "    return result\n",
    "\n",
    "# Calculate the moving sum with a window size of 2\n",
    "window_size = 2\n",
    "moving_sum_result = moving_sum(arr, window_size)\n",
    "\n",
    "# Display the result\n",
    "print(\"Original array:\\n\", arr)\n",
    "print(\"Moving sum along rows with window size {}:\\n{}\".format(window_size, moving_sum_result))\n",
    "\n"
   ]
  },
  {
   "cell_type": "markdown",
   "id": "58859bbd-80ad-469d-8229-0118eac19930",
   "metadata": {},
   "source": [
    "Q.45 n the given array, check if all elements in each column are even. \n",
    "arr = np.array([[2, 4, 6], [3, 5, 7]]).\n"
   ]
  },
  {
   "cell_type": "code",
   "execution_count": 61,
   "id": "71f427af-a1e5-42aa-abff-62219d25b339",
   "metadata": {},
   "outputs": [
    {
     "name": "stdout",
     "output_type": "stream",
     "text": [
      "[False False False]\n"
     ]
    }
   ],
   "source": [
    "import numpy as np\n",
    "arr = np.array([[2, 4, 6], [3, 5, 7]])\n",
    "all_even_columns = np.all(arr % 2 == 0, axis=0)\n",
    "print(all_even_columns) \n"
   ]
  },
  {
   "cell_type": "markdown",
   "id": "3ef3149c-d3af-4a46-91a8-e3cbd7d9f17e",
   "metadata": {},
   "source": [
    "Q.46 Given a NumPy array arr, reshape it into a matrix of dimensions `m` rows and `n` columns. Return the reshaped matrix. original_array = np.array([1, 2, 3, 4, 5, 6])."
   ]
  },
  {
   "cell_type": "code",
   "execution_count": 62,
   "id": "633cae20-5c48-437e-a727-58453e89224a",
   "metadata": {},
   "outputs": [
    {
     "name": "stdout",
     "output_type": "stream",
     "text": [
      "[[1 2 3]\n",
      " [4 5 6]]\n"
     ]
    }
   ],
   "source": [
    "import numpy as np\n",
    "\n",
    "original_array = np.array([1, 2, 3, 4, 5, 6])\n",
    "\n",
    "def reshape_array(arr, m, n):\n",
    "    return arr.reshape(m, n)\n",
    "m, n = 2, 3  \n",
    "reshaped_matrix = reshape_array(original_array, m, n)\n",
    "print(reshaped_matrix)\n"
   ]
  },
  {
   "cell_type": "markdown",
   "id": "fb60e3dd-a9e8-4294-a73b-055a4a01cbe4",
   "metadata": {},
   "source": [
    "Q.47 Create a function that takes a matrix as input and returns the flattened array.\n",
    "input_matrix = np.array([[1, 2, 3], [4, 5, 6]])"
   ]
  },
  {
   "cell_type": "code",
   "execution_count": 63,
   "id": "a6ff6913-f0ae-4674-a618-b320cc21d2b8",
   "metadata": {},
   "outputs": [
    {
     "name": "stdout",
     "output_type": "stream",
     "text": [
      "[1 2 3 4 5 6]\n"
     ]
    }
   ],
   "source": [
    "import numpy as np\n",
    "\n",
    "# Function to flatten a matrix\n",
    "def flatten_matrix(matrix):\n",
    "    return matrix.flatten()\n",
    "\n",
    "input_matrix = np.array([[1, 2, 3], [4, 5, 6]])\n",
    "flattened_array = flatten_matrix(input_matrix)\n",
    "print(flattened_array)\n"
   ]
  },
  {
   "cell_type": "markdown",
   "id": "e22bd5ad-72c1-4063-8e2d-2244c94a0cb2",
   "metadata": {},
   "source": [
    "Q.48 Write a function that concatenates two given arrays along a specified axis. \n",
    "array1 = np.array([[1, 2], [3, 4]])\n",
    "array2 = np.array([[5, 6], [7, 8]])\n"
   ]
  },
  {
   "cell_type": "code",
   "execution_count": 64,
   "id": "a9d7d810-99ff-4708-90dd-00b8e265ad78",
   "metadata": {},
   "outputs": [
    {
     "name": "stdout",
     "output_type": "stream",
     "text": [
      "[[1 2]\n",
      " [3 4]\n",
      " [5 6]\n",
      " [7 8]]\n",
      "[[1 2 5 6]\n",
      " [3 4 7 8]]\n"
     ]
    }
   ],
   "source": [
    "import numpy as np\n",
    "# Function to concatenate two arrays along a specified axis\n",
    "def concatenate_arrays(array1, array2, axis):\n",
    "    return np.concatenate((array1, array2), axis=axis)\n",
    "\n",
    "array1 = np.array([[1, 2], [3, 4]])\n",
    "array2 = np.array([[5, 6], [7, 8]])\n",
    "concatenated_array = concatenate_arrays(array1, array2, axis=0)  # Concatenate along rows\n",
    "print(concatenated_array)\n",
    "concatenated_array = concatenate_arrays(array1, array2, axis=1)  # Concatenate along columns\n",
    "print(concatenated_array)\n"
   ]
  },
  {
   "cell_type": "markdown",
   "id": "1866924a-ef65-45f8-944e-51dfd0f72047",
   "metadata": {},
   "source": [
    "Q.49 Create a function that splits an array into multiple sub-arrays along a specified axis. \n",
    "original_array = np.array([[1, 2, 3], [4, 5, 6], [7, 8, 9]])"
   ]
  },
  {
   "cell_type": "code",
   "execution_count": 65,
   "id": "6e4e1102-7691-49b0-990a-7ea7f10f8149",
   "metadata": {},
   "outputs": [
    {
     "name": "stdout",
     "output_type": "stream",
     "text": [
      "[[1 2 3]]\n",
      "[[4 5 6]]\n",
      "[[7 8 9]]\n",
      "[[1]\n",
      " [4]\n",
      " [7]]\n",
      "[[2]\n",
      " [5]\n",
      " [8]]\n",
      "[[3]\n",
      " [6]\n",
      " [9]]\n"
     ]
    }
   ],
   "source": [
    "import numpy as np\n",
    "# Function to split an array into multiple sub-arrays along a specified axis\n",
    "def split_array(array, indices_or_sections, axis=0):\n",
    "    return np.split(array, indices_or_sections, axis=axis)\n",
    "# Example usage\n",
    "original_array = np.array([[1, 2, 3], [4, 5, 6], [7, 8, 9]])\n",
    "# Split the array into 3 sub-arrays along axis 0 (rows)\n",
    "split_arrays = split_array(original_array, 3, axis=0)\n",
    "for sub_array in split_arrays:\n",
    "    print(sub_array)\n",
    "# Split the array into 3 sub-arrays along axis 1 (columns)\n",
    "split_arrays = split_array(original_array, 3, axis=1)\n",
    "for sub_array in split_arrays:\n",
    "    print(sub_array)\n"
   ]
  },
  {
   "cell_type": "markdown",
   "id": "33b24eaf-4f8a-4520-bc96-40532b87281a",
   "metadata": {},
   "source": [
    "Q.50 Write a function that inserts and then deletes elements from a given array at specified indices. original_array = np.array([1, 2, 3, 4, 5]) ",
    " indices_to_insert = [2, 4] ",
    " values_to_insert = [10, 11] ",
    " indices_to_delete = [1, 3]."
   ]
  },
  {
   "cell_type": "code",
   "execution_count": 66,
   "id": "1bc609cc-53fb-4472-b3cd-ac6a0d990192",
   "metadata": {},
   "outputs": [
    {
     "name": "stdout",
     "output_type": "stream",
     "text": [
      "[ 1 10 11  4  5]\n"
     ]
    }
   ],
   "source": [
    "import numpy as np\n",
    "# Function to insert and then delete elements from an array\n",
    "def modify_array(array, indices_to_insert, values_to_insert, indices_to_delete):\n",
    "    # Insert elements at specified indices\n",
    "    for index, value in zip(indices_to_insert, values_to_insert):\n",
    "        array = np.insert(array, index, value)\n",
    "    # Delete elements at specified indices\n",
    "    array = np.delete(array, indices_to_delete)\n",
    "    return array\n",
    "\n",
    "original_array = np.array([1, 2, 3, 4, 5])\n",
    "indices_to_insert = [2, 4]\n",
    "values_to_insert = [10, 11]\n",
    "indices_to_delete = [1, 3]\n",
    "modified_array = modify_array(original_array, indices_to_insert, values_to_insert, indices_to_delete)\n",
    "print(modified_array)\n"
   ]
  },
  {
   "cell_type": "markdown",
   "id": "f44aa335-c577-47b9-b11f-b9fdf860f33e",
   "metadata": {},
   "source": [
    "Q.51 Create a NumPy array `arr1` with random integers and another array `arr2` with integers from 1 to 10. Perform element-wise addition between `arr1` and `arr2`."
   ]
  },
  {
   "cell_type": "code",
   "execution_count": 67,
   "id": "1fdba5ea-c7f0-4006-8911-e0ea6f306595",
   "metadata": {},
   "outputs": [
    {
     "name": "stdout",
     "output_type": "stream",
     "text": [
      "arr1: [ 5  6  5  6  8 10  9  5  4  5]\n",
      "arr2: [ 1  2  3  4  5  6  7  8  9 10]\n",
      "Result of element-wise addition: [ 6  8  8 10 13 16 16 13 13 15]\n"
     ]
    }
   ],
   "source": [
    "import numpy as np\n",
    "\n",
    "arr1 = np.random.randint(1, 11, size=10)  \n",
    "\n",
    "arr2 = np.arange(1, 11)  \n",
    "\n",
    "result = np.add(arr1, arr2)\n",
    "\n",
    "print(\"arr1:\", arr1)\n",
    "print(\"arr2:\", arr2)\n",
    "print(\"Result of element-wise addition:\", result)\n"
   ]
  },
  {
   "cell_type": "markdown",
   "id": "8c024d9e-e070-463b-8995-808d5da10e64",
   "metadata": {},
   "source": [
    "Q.52 Generate a NumPy array `arr1` with sequential integers from 10 to 1 and another array `arr2` with integers from 1 to 10. Subtract `arr2` from `arr1` element-wise."
   ]
  },
  {
   "cell_type": "code",
   "execution_count": 68,
   "id": "ceb7cb63-6875-4a2a-a138-1ff94107869b",
   "metadata": {},
   "outputs": [
    {
     "name": "stdout",
     "output_type": "stream",
     "text": [
      "arr1: [10  9  8  7  6  5  4  3  2  1]\n",
      "arr2: [ 1  2  3  4  5  6  7  8  9 10]\n",
      "result: [ 9  7  5  3  1 -1 -3 -5 -7 -9]\n"
     ]
    }
   ],
   "source": [
    "import numpy as np\n",
    "# Create the arrays\n",
    "arr1 = np.arange(10, 0, -1)\n",
    "arr2 = np.arange(1, 11)\n",
    "# Subtract arr2 from arr1 element-wise\n",
    "result = arr1 - arr2\n",
    "print(\"arr1:\", arr1)\n",
    "print(\"arr2:\", arr2)\n",
    "print(\"result:\", result)\n"
   ]
  },
  {
   "cell_type": "markdown",
   "id": "f8d85624-343c-475a-a052-a9ac67b9ffe5",
   "metadata": {},
   "source": [
    "Q.53 Create a NumPy array `arr1` with random integers and another array `arr2` with integers from 1 to 5. Perform element-wise multiplication between `arr1` and `arr2`."
   ]
  },
  {
   "cell_type": "code",
   "execution_count": 69,
   "id": "1773a224-6ee5-45f6-9344-981f351113b1",
   "metadata": {},
   "outputs": [
    {
     "name": "stdout",
     "output_type": "stream",
     "text": [
      "arr1: [9 7 4 4 1]\n",
      "arr2: [1 2 3 4 5]\n",
      "result: [ 9 14 12 16  5]\n"
     ]
    }
   ],
   "source": [
    "import numpy as np\n",
    "# Create arr1 with random integers\n",
    "arr1 = np.random.randint(1, 10, size=5)\n",
    "# Create arr2 with integers from 1 to 5\n",
    "arr2 = np.arange(1, 6)\n",
    "# Perform element-wise multiplication\n",
    "result = arr1 * arr2\n",
    "print(\"arr1:\", arr1)\n",
    "print(\"arr2:\", arr2)\n",
    "print(\"result:\", result)\n"
   ]
  },
  {
   "cell_type": "markdown",
   "id": "4ee6ee0a-d853-44eb-a200-345307f544de",
   "metadata": {},
   "source": [
    "Q.54 Generate a NumPy array `arr1` with even integers from 2 to 10 and another array `arr2` with integers from 1 to 5. Perform element-wise division of `arr1` by `arr2"
   ]
  },
  {
   "cell_type": "code",
   "execution_count": 70,
   "id": "0c031222-a1e1-4464-b529-1f940c44fe63",
   "metadata": {},
   "outputs": [
    {
     "name": "stdout",
     "output_type": "stream",
     "text": [
      "arr1: [ 2  4  6  8 10]\n",
      "arr2: [1 2 3 4 5]\n",
      "result: [2. 2. 2. 2. 2.]\n"
     ]
    }
   ],
   "source": [
    "import numpy as np\n",
    "# Create arr1 with even integers from 2 to 10\n",
    "arr1 = np.arange(2, 11, 2)\n",
    "# Create arr2 with integers from 1 to 5\n",
    "arr2 = np.arange(1, 6)\n",
    "# Perform element-wise division\n",
    "result = arr1 / arr2\n",
    "print(\"arr1:\", arr1)\n",
    "print(\"arr2:\", arr2)\n",
    "print(\"result:\", result)\n"
   ]
  },
  {
   "cell_type": "markdown",
   "id": "252ff751-c2a1-4be7-85c2-feebb53b5864",
   "metadata": {},
   "source": [
    "Q.55 Create a NumPy array `arr1` with integers from 1 to 5 and another array `arr2` with the same numbers reversed. Calculate the exponentiation of `arr1` raised to the power of `arr2` element-wise"
   ]
  },
  {
   "cell_type": "code",
   "execution_count": 71,
   "id": "29087ff2-deea-4129-b003-5dbd893ce6ae",
   "metadata": {},
   "outputs": [
    {
     "name": "stdout",
     "output_type": "stream",
     "text": [
      "arr1: [ 2  4  6  8 10]\n",
      "arr2: [1 2 3 4 5]\n",
      "result: [2. 2. 2. 2. 2.]\n"
     ]
    }
   ],
   "source": [
    "import numpy as np\n",
    "# Create arr1 with even integers from 2 to 10\n",
    "arr1 = np.arange(2, 11, 2)\n",
    "# Create arr2 with integers from 1 to 5\n",
    "arr2 = np.arange(1, 6)\n",
    "# Perform element-wise division\n",
    "result = arr1 / arr2\n",
    "print(\"arr1:\", arr1)\n",
    "print(\"arr2:\", arr2)\n",
    "print(\"result:\", result)\n"
   ]
  },
  {
   "cell_type": "markdown",
   "id": "8bea0302-621a-4b9f-9d43-ed088c5acea7",
   "metadata": {},
   "source": [
    "Q.56 Write a function that counts the occurrences of a specific substring within a NumPy array of strings. arr = np.array(['hello', 'world', 'hello', 'numpy', 'hello'])."
   ]
  },
  {
   "cell_type": "code",
   "execution_count": 72,
   "id": "50e468ee-54c0-4c7d-b4c1-14c477beae14",
   "metadata": {},
   "outputs": [
    {
     "name": "stdout",
     "output_type": "stream",
     "text": [
      "[1 0 1 0 1]\n"
     ]
    }
   ],
   "source": [
    "import numpy as np\n",
    "def count_substring_occurrences(arr, substring):\n",
    "    return np.char.count(arr, substring)\n",
    "\n",
    "arr = np.array(['hello', 'world', 'hello', 'numpy', 'hello'])\n",
    "substring = 'hello'\n",
    "count = count_substring_occurrences(arr, substring)\n",
    "print(count)\n"
   ]
  },
  {
   "cell_type": "markdown",
   "id": "e228825d-bf42-416f-b193-e36e60e80873",
   "metadata": {},
   "source": [
    "Q.57 Write a function that extracts uppercase characters from a NumPy array of strings. arr = np.array(['Hello', 'World', 'OpenAI', 'GPT']) arr = np.array(['Hello', 'World', 'OpenAI', 'GPT'])."
   ]
  },
  {
   "cell_type": "code",
   "execution_count": 73,
   "id": "399673e9-77bd-4441-99ef-ec85a4d3d04b",
   "metadata": {},
   "outputs": [
    {
     "name": "stdout",
     "output_type": "stream",
     "text": [
      "['H' 'W' 'O' 'A' 'I' 'G' 'P' 'T']\n"
     ]
    }
   ],
   "source": [
    "import numpy as np\n",
    "def extract_uppercase(arr):\n",
    "    # Create an empty list to store the uppercase characters\n",
    "    uppercase_chars = []\n",
    "    # Iterate over each string in the array\n",
    "    for string in arr:\n",
    "        # Extract uppercase characters and add them to the list\n",
    "        uppercase_chars.extend([char for char in string if char.isupper()])\n",
    "    return np.array(uppercase_chars)\n",
    "# Example usage\n",
    "arr = np.array(['Hello', 'World', 'OpenAI', 'GPT'])\n",
    "uppercase_chars = extract_uppercase(arr)\n",
    "print(uppercase_chars)\n"
   ]
  },
  {
   "cell_type": "markdown",
   "id": "d953fcaa-a17c-4cf3-8361-63196c55cf64",
   "metadata": {},
   "source": [
    "Q.58 Write a function that replaces occurrences of a substring in a NumPy array of strings with a new string. arr = np.array(['apple', 'banana', 'grape', 'pineapple'])"
   ]
  },
  {
   "cell_type": "code",
   "execution_count": 74,
   "id": "ddacd193-b722-4581-a68b-c08384f627f0",
   "metadata": {},
   "outputs": [
    {
     "name": "stdout",
     "output_type": "stream",
     "text": [
      "9\n"
     ]
    }
   ],
   "source": [
    "import numpy as np\n",
    "def longest_string_length(arr):\n",
    "    # Find the longest string in the array\n",
    "    longest_string = max(arr, key=len)\n",
    "    # Return the length of the longest string\n",
    "    return len(longest_string)\n",
    "# Example usage\n",
    "arr = np.array(['apple', 'banana', 'grape', 'pineapple'])\n",
    "print(longest_string_length(arr))  # Output: 9\n"
   ]
  },
  {
   "cell_type": "markdown",
   "id": "8d2f97aa-eb1e-43f1-bcdc-f56fd0755e55",
   "metadata": {},
   "source": [
    "Q.59 Write a function that concatenates strings in a NumPy array element-wise. \n",
    "arr1 = np.array(['Hello', 'World'])\n",
    "arr2 = np.array(['Open', 'AI'])\n"
   ]
  },
  {
   "cell_type": "code",
   "execution_count": 75,
   "id": "7a924dcf-bb2d-4d58-a239-13b83cd4d30f",
   "metadata": {},
   "outputs": [
    {
     "name": "stdout",
     "output_type": "stream",
     "text": [
      "['HelloOpen' 'WorldAI']\n"
     ]
    }
   ],
   "source": [
    "import numpy as np\n",
    "def concatenate_arrays(arr1, arr2):\n",
    "    return np.char.add(arr1, arr2)\n",
    "arr1 = np.array(['Hello', 'World'])\n",
    "arr2 = np.array(['Open', 'AI'])\n",
    "result = concatenate_arrays(arr1, arr2)\n",
    "print(result)\n"
   ]
  },
  {
   "cell_type": "markdown",
   "id": "709967b0-3094-4cc8-a62e-a0a4bf054d8c",
   "metadata": {},
   "source": [
    "Q.60 Write a function that finds the length of the longest string in a NumPy array.\n",
    " arr = np.array(['apple', 'banana', 'grape', 'pineapple'])\n",
    " arr = np.array(['apple', 'banana', 'grape', 'pineapple'])\n"
   ]
  },
  {
   "cell_type": "code",
   "execution_count": 2,
   "id": "e8252565-1362-4c72-98fe-3cf6d0b163b0",
   "metadata": {},
   "outputs": [
    {
     "name": "stdout",
     "output_type": "stream",
     "text": [
      "9\n"
     ]
    }
   ],
   "source": [
    "import numpy as np\n",
    "def longest_string_length(arr):\n",
    "    \n",
    "    longest_string = max(arr, key=len)\n",
    "    \n",
    "    return len(longest_string)\n",
    "\n",
    "arr = np.array(['apple', 'banana', 'grape', 'pineapple'])\n",
    "print(longest_string_length(arr))  #\n"
   ]
  },
  {
   "cell_type": "markdown",
   "id": "e1ad2b28-6412-451a-a284-a5fb6e7cb96f",
   "metadata": {},
   "source": [
    "Q.61 Create a dataset of 100 random integers between 1 and 1000. Compute the mean, median, variance, and standard deviation of the dataset using NumPy's functions."
   ]
  },
  {
   "cell_type": "code",
   "execution_count": 3,
   "id": "0fd79318-482c-4984-93c9-e40a5c3d28fc",
   "metadata": {},
   "outputs": [
    {
     "name": "stdout",
     "output_type": "stream",
     "text": [
      "Dataset: [381 462 743 258 919 401 595 421 861 906 681 971 153 854 551 720 963 515\n",
      "  65 252 576 904  83 339 227 408 496 620 594 410  96 564 260 560 447 864\n",
      " 236 182 418 407 917 722 933 508 888 290 231 384 659 474 856 450 278 590\n",
      " 768 262   4 212 244 386 422  72  43 752 466 924 234 654 356 916 576 833\n",
      " 299 876  60 739  48 855 322 239 651 271 687 895 427 216 596 605 682 615\n",
      " 830 647 243 544 341 631 879 522 610 611]\n",
      "Mean: 516.08\n",
      "Median: 518.5\n",
      "Variance: 68310.85360000002\n",
      "Standard Deviation: 261.36345115566564\n"
     ]
    }
   ],
   "source": [
    "import numpy as np\n",
    "# Generate a dataset of 100 random integers between 1 and 1000\n",
    "dataset = np.random.randint(1, 1001, size=100)\n",
    "# Compute the mean\n",
    "mean = np.mean(dataset)\n",
    "# Compute the median\n",
    "median = np.median(dataset)\n",
    "variance = np.var(dataset)\n",
    "# Compute the standard deviation\n",
    "std_deviation = np.std(dataset)\n",
    "print(\"Dataset:\", dataset)\n",
    "print(\"Mean:\", mean)\n",
    "print(\"Median:\", median)\n",
    "print(\"Variance:\", variance)\n",
    "print(\"Standard Deviation:\", std_deviation)\n"
   ]
  },
  {
   "cell_type": "markdown",
   "id": "454fe8ec-f175-40b7-b25c-024c7c1d6d81",
   "metadata": {},
   "source": [
    "Q.62 Generate an array of 50 random numbers between 1 and 100. Find the 25th and 75th percentiles of the dataset."
   ]
  },
  {
   "cell_type": "code",
   "execution_count": null,
   "id": "216b9fea-b203-4e40-871b-76633a1377d3",
   "metadata": {},
   "outputs": [],
   "source": [
    "import numpy as np\n",
    "# Generate an array of 50 random numbers between 1 and 100\n",
    "random_numbers = np.random.randint(1, 101, size=50)\n",
    "# Calculate the 25th and 75th percentiles\n",
    "percentile_25 = np.percentile(random_numbers, 25)\n",
    "percentile_75 = np.percentile(random_numbers, 75)\n",
    "print(\"Random Numbers:\", random_numbers)\n",
    "print(\"25th Percentile:\", percentile_25)\n",
    "print(\"75th Percentile:\", percentile_75)\n"
   ]
  },
  {
   "cell_type": "markdown",
   "id": "9261d2d6-995a-467a-ace2-99434132b1a0",
   "metadata": {},
   "source": [
    "Q.63 Create two arrays representing two sets of variables. Compute the correlation coefficient between these arrays using NumPy's `corrcoef` function."
   ]
  },
  {
   "cell_type": "code",
   "execution_count": 4,
   "id": "f700f8c1-ee3c-4905-b8ab-371958003199",
   "metadata": {},
   "outputs": [
    {
     "name": "stdout",
     "output_type": "stream",
     "text": [
      "Array 1: [0.85865952 0.64811818 0.37215349 0.18810729 0.50157076 0.1975407\n",
      " 0.40709303 0.19244211 0.02537671 0.38314646 0.29139647 0.74551409\n",
      " 0.39813585 0.29960248 0.36967771 0.54931372 0.46535237 0.08262567\n",
      " 0.78150887 0.70815699 0.29410058 0.89672475 0.8182853  0.91778521\n",
      " 0.97114056 0.55997813 0.85993384 0.89090974 0.4657751  0.7281846\n",
      " 0.04217961 0.91195679 0.82084585 0.4207749  0.20729559 0.54259668\n",
      " 0.42347823 0.78175976 0.25315881 0.82669019 0.36943989 0.69525427\n",
      " 0.40097385 0.31546892 0.79042585 0.03048251 0.59570182 0.44322321\n",
      " 0.71573296 0.42390138]\n",
      "Array 2: [0.09879895 0.6316025  0.52595655 0.76782759 0.59245399 0.60689816\n",
      " 0.3319074  0.83837009 0.06991582 0.61987592 0.61943972 0.32533845\n",
      " 0.74121097 0.24588349 0.60747535 0.2021329  0.67362449 0.21405509\n",
      " 0.17101039 0.21049198 0.44270678 0.53281042 0.86050249 0.31492124\n",
      " 0.01309531 0.41943317 0.45008771 0.79005134 0.9804702  0.14730352\n",
      " 0.13944742 0.74908661 0.30006788 0.61394444 0.16626514 0.44185773\n",
      " 0.87082637 0.6605493  0.9567523  0.19124404 0.12454391 0.13770281\n",
      " 0.09873954 0.7812753  0.69246702 0.61494663 0.20344908 0.95044692\n",
      " 0.2567965  0.62608693]\n",
      "Correlation Coefficient Matrix:\n",
      " [[ 1.         -0.12590418]\n",
      " [-0.12590418  1.        ]]\n"
     ]
    }
   ],
   "source": [
    "import numpy as np\n",
    "# Create two arrays representing two sets of variables\n",
    "array1 = np.random.rand(50)\n",
    "array2 = np.random.rand(50)\n",
    "# Compute the correlation coefficient between the arrays\n",
    "correlation_matrix = np.corrcoef(array1, array2)\n",
    "print(\"Array 1:\", array1)\n",
    "print(\"Array 2:\", array2)\n",
    "print(\"Correlation Coefficient Matrix:\\n\", correlation_matrix)\n"
   ]
  },
  {
   "cell_type": "markdown",
   "id": "4fe54a31-043a-4dcf-b4f2-886a9bbc733b",
   "metadata": {},
   "source": [
    "Q.64 Create two matrices and perform matrix multiplication using NumPy's `dot` function"
   ]
  },
  {
   "cell_type": "code",
   "execution_count": 5,
   "id": "93d0e152-1d74-45e1-af8a-2d8aea8a3723",
   "metadata": {},
   "outputs": [
    {
     "name": "stdout",
     "output_type": "stream",
     "text": [
      "Matrix 1:\n",
      " [[1 2 3]\n",
      " [4 5 6]]\n",
      "Matrix 2:\n",
      " [[ 7  8]\n",
      " [ 9 10]\n",
      " [11 12]]\n",
      "Result of Matrix Multiplication:\n",
      " [[ 58  64]\n",
      " [139 154]]\n"
     ]
    }
   ],
   "source": [
    "import numpy as np\n",
    "# Create two matrices\n",
    "matrix1 = np.array([[1, 2, 3], [4, 5, 6]])\n",
    "matrix2 = np.array([[7, 8], [9, 10], [11, 12]])\n",
    "# Perform matrix multiplication\n",
    "result = np.dot(matrix1, matrix2)\n",
    "print(\"Matrix 1:\\n\", matrix1)\n",
    "print(\"Matrix 2:\\n\", matrix2)\n",
    "print(\"Result of Matrix Multiplication:\\n\", result)\n"
   ]
  },
  {
   "cell_type": "markdown",
   "id": "19225c4a-7f70-4ef1-ac0d-25a1d911f8f0",
   "metadata": {},
   "source": [
    "Q.65 Create an array of 50 integers between 10 and 1000. Calculate the 10th, 50th (median), and 90th percentiles along with the first and third quartiles."
   ]
  },
  {
   "cell_type": "code",
   "execution_count": 6,
   "id": "2acc59f8-7526-4e29-bbcf-7a8217f44ea6",
   "metadata": {},
   "outputs": [
    {
     "name": "stdout",
     "output_type": "stream",
     "text": [
      "Random Integers: [ 682  930  782  383  719  866  676  884  566  111  628  690  444  790\n",
      "  509  964  496  248   13  794  645  243  100 1000  172  410  647  274\n",
      "  296  351  649  180  478  612  819  125  544  217  659  654   70  307\n",
      "  845  586  189  982   24  248  222  784]\n",
      "10th Percentile: 123.60000000000001\n",
      "50th Percentile (Median): 555.0\n",
      "90th Percentile: 867.8000000000001\n",
      "First Quartile (Q1): 248.0\n",
      "Third Quartile (Q3): 711.75\n"
     ]
    }
   ],
   "source": [
    "import numpy as np\n",
    "# Create an array of 50 integers between 10 and 1000\n",
    "random_integers = np.random.randint(10, 1001, size=50)\n",
    "# Calculate the percentiles and quartiles\n",
    "percentile_10 = np.percentile(random_integers, 10)\n",
    "percentile_50 = np.percentile(random_integers, 50)  # This is also the median\n",
    "percentile_90 = np.percentile(random_integers, 90)\n",
    "quartile_1 = np.percentile(random_integers, 25)  # First quartile (Q1)\n",
    "quartile_3 = np.percentile(random_integers, 75)  # Third quartile (Q3)\n",
    "print(\"Random Integers:\", random_integers)\n",
    "print(\"10th Percentile:\", percentile_10)\n",
    "print(\"50th Percentile (Median):\", percentile_50)\n",
    "print(\"90th Percentile:\", percentile_90)\n",
    "print(\"First Quartile (Q1):\", quartile_1)\n",
    "print(\"Third Quartile (Q3):\", quartile_3)\n"
   ]
  },
  {
   "cell_type": "markdown",
   "id": "fc9a1a7e-a2ce-4f11-9860-f6a6ca9ec631",
   "metadata": {},
   "source": [
    "Q.66 Create a NumPy array of integers and find the index of a specific element."
   ]
  },
  {
   "cell_type": "code",
   "execution_count": 7,
   "id": "e1a342f6-561b-4413-9495-3f91a0a2d8e4",
   "metadata": {},
   "outputs": [
    {
     "name": "stdout",
     "output_type": "stream",
     "text": [
      "Array: [ 10  20  30  40  50  60  70  80  90 100]\n",
      "Index of element 50 : 4\n"
     ]
    }
   ],
   "source": [
    "import numpy as np\n",
    "# Create a NumPy array of integers\n",
    "array = np.array([10, 20, 30, 40, 50, 60, 70, 80, 90, 100])\n",
    "# Specify the element to find\n",
    "element_to_find = 50\n",
    "# Find the index of the specific element\n",
    "index = np.where(array == element_to_find)[0][0]\n",
    "print(\"Array:\", array)\n",
    "print(\"Index of element\", element_to_find, \":\", index)\n"
   ]
  },
  {
   "cell_type": "markdown",
   "id": "992f822c-75f3-48bc-8889-122b01702b55",
   "metadata": {},
   "source": [
    "Q.67 Generate a random NumPy array and sort it in ascending order."
   ]
  },
  {
   "cell_type": "code",
   "execution_count": 8,
   "id": "29279527-c92a-411b-bece-cb4c78f15136",
   "metadata": {},
   "outputs": [
    {
     "name": "stdout",
     "output_type": "stream",
     "text": [
      "Random Array: [ 49  62  88  91  46  47  73  70 100  79]\n",
      "Sorted Array: [ 46  47  49  62  70  73  79  88  91 100]\n"
     ]
    }
   ],
   "source": [
    "import numpy as np\n",
    "# Generate a random NumPy array of 10 elements\n",
    "random_array = np.random.randint(1, 101, size=10)\n",
    "# Sort the array in ascending order\n",
    "sorted_array = np.sort(random_array)\n",
    "print(\"Random Array:\", random_array)\n",
    "print(\"Sorted Array:\", sorted_array)\n"
   ]
  },
  {
   "cell_type": "markdown",
   "id": "b4f36ac5-ec46-4d64-9e45-d87ff6cbbe5b",
   "metadata": {},
   "source": [
    "Q.68 Filter elements >20  in the given NumPy array. \n",
    "arr = np.array([12, 25, 6, 42, 8, 30])"
   ]
  },
  {
   "cell_type": "code",
   "execution_count": 9,
   "id": "164c4925-e1e1-454b-931a-ede846289929",
   "metadata": {},
   "outputs": [
    {
     "name": "stdout",
     "output_type": "stream",
     "text": [
      "Original Array: [12 25  6 42  8 30]\n",
      "Filtered Array (elements > 20): [25 42 30]\n"
     ]
    }
   ],
   "source": [
    "import numpy as np\n",
    "# Given NumPy array\n",
    "arr = np.array([12, 25, 6, 42, 8, 30])\n",
    "# Filter elements greater than 20\n",
    "filtered_arr = arr[arr > 20]\n",
    "print(\"Original Array:\", arr)\n",
    "print(\"Filtered Array (elements > 20):\", filtered_arr)\n"
   ]
  },
  {
   "cell_type": "markdown",
   "id": "fcb64f64-0ff5-42ca-9e44-9a25492b8504",
   "metadata": {},
   "source": [
    "Q.69 Filter elements which are divisible by 3 from a given NumPy array. \n",
    "arr = np.array([1, 5, 8, 12, 15])"
   ]
  },
  {
   "cell_type": "code",
   "execution_count": 10,
   "id": "6337eeff-006f-4a67-9c24-4c61adb9fb5c",
   "metadata": {},
   "outputs": [
    {
     "name": "stdout",
     "output_type": "stream",
     "text": [
      "Original Array: [ 1  5  8 12 15]\n",
      "Filtered Array (elements divisible by 3): [12 15]\n"
     ]
    }
   ],
   "source": [
    "import numpy as np\n",
    "# Given NumPy array\n",
    "arr = np.array([1, 5, 8, 12, 15])\n",
    "# Filter elements divisible by 3\n",
    "filtered_arr = arr[arr % 3 == 0]\n",
    "print(\"Original Array:\", arr)\n",
    "print(\"Filtered Array (elements divisible by 3):\", filtered_arr)\n"
   ]
  },
  {
   "cell_type": "markdown",
   "id": "8c1adc4c-de10-4182-ad31-85751c754ecb",
   "metadata": {},
   "source": [
    "Q.70 Filter elements which are ≥ 20 and ≤ 40 from a given NumPy array. \n",
    "arr = np.array([10, 20, 30, 40, 50])"
   ]
  },
  {
   "cell_type": "code",
   "execution_count": 11,
   "id": "6d663b89-5302-4e6b-956f-4a24c7a329b0",
   "metadata": {},
   "outputs": [
    {
     "name": "stdout",
     "output_type": "stream",
     "text": [
      "Original Array: [10 20 30 40 50]\n",
      "Filtered Array (elements ≥ 20 and ≤ 40): [20 30 40]\n"
     ]
    }
   ],
   "source": [
    "import numpy as np\n",
    "# Given NumPy array\n",
    "arr = np.array([10, 20, 30, 40, 50])\n",
    "# Filter elements that are ≥ 20 and ≤ 40\n",
    "filtered_arr = arr[(arr >= 20) & (arr <= 40)]\n",
    "print(\"Original Array:\", arr)\n",
    "print(\"Filtered Array (elements ≥ 20 and ≤ 40):\", filtered_arr)\n"
   ]
  },
  {
   "cell_type": "markdown",
   "id": "d5dfbbca-719f-43c8-a33b-8f9bead5ad86",
   "metadata": {},
   "source": [
    "Q.71 For the given NumPy array, check its byte order using the `dtype` attribute byteorder. \n",
    "arr = np.array([1, 2, 3])"
   ]
  },
  {
   "cell_type": "code",
   "execution_count": 17,
   "id": "305acca8-ba8f-4c4a-9ee9-b220a11797fa",
   "metadata": {},
   "outputs": [
    {
     "name": "stdout",
     "output_type": "stream",
     "text": [
      "The byte order of the array is: =\n"
     ]
    }
   ],
   "source": [
    "import numpy as np\n",
    "\n",
    "arr = np.array([1, 2, 3])\n",
    "byte_order = arr.dtype.byteorder\n",
    "\n",
    "print(f\"The byte order of the array is: {byte_order}\")\n"
   ]
  },
  {
   "cell_type": "markdown",
   "id": "25e7e4a0-d8c5-4614-a8e0-6f8078cfbb8b",
   "metadata": {},
   "source": [
    "Q.72 For the given NumPy array, perform byte swapping in place using `byteswap()`. \n",
    "arr = np.array([1, 2, 3], dtype=np.int32)"
   ]
  },
  {
   "cell_type": "code",
   "execution_count": 19,
   "id": "2d90dd01-be30-4906-9d91-30fcf72d532e",
   "metadata": {},
   "outputs": [
    {
     "name": "stdout",
     "output_type": "stream",
     "text": [
      "Array after byte swapping: [16777216 33554432 50331648]\n"
     ]
    }
   ],
   "source": [
    "import numpy as np\n",
    "\n",
    "# Given NumPy array\n",
    "arr = np.array([1, 2, 3], dtype=np.int32)\n",
    "# Perform byte swapping in place\n",
    "arr.byteswap(inplace=True)\n",
    "print(\"Array after byte swapping:\", arr)\n",
    "\n"
   ]
  },
  {
   "cell_type": "markdown",
   "id": "809a3b26-a708-43d5-8208-30d7ba227a07",
   "metadata": {},
   "source": [
    "Q.73 For the given NumPy array, swap its byte order without modifying the original array using `newbyteorder()`. \n",
    "arr = np.array([1, 2, 3], dtype=np.int32)"
   ]
  },
  {
   "cell_type": "code",
   "execution_count": 23,
   "id": "f9f6e6aa-5cdb-4a19-8337-d30054d71da2",
   "metadata": {},
   "outputs": [
    {
     "name": "stdout",
     "output_type": "stream",
     "text": [
      "Original array: [1 2 3]\n",
      "Swapped byte order array: [16777216 33554432 50331648]\n"
     ]
    }
   ],
   "source": [
    "import numpy as np\n",
    "\n",
    "arr = np.array([1, 2, 3], dtype=np.int32)\n",
    "swapped_arr = arr.view(arr.dtype.newbyteorder())\n",
    "\n",
    "print(\"Original array:\", arr)\n",
    "print(\"Swapped byte order array:\", swapped_arr)\n",
    "\n"
   ]
  },
  {
   "cell_type": "markdown",
   "id": "56a523ae-c41e-417d-9808-57ace462853c",
   "metadata": {},
   "source": [
    "Q.74 For the given NumPy array and swap its byte order conditionally based on system endianness using `newbyteorder()`. \n",
    "arr = np.array([1, 2, 3], dtype=np.int32)"
   ]
  },
  {
   "cell_type": "code",
   "execution_count": 26,
   "id": "db1cdb70-c6f7-401d-acc3-dbaff42fab1a",
   "metadata": {},
   "outputs": [
    {
     "name": "stdout",
     "output_type": "stream",
     "text": [
      "Original Array: [1 2 3]\n",
      "Swapped Byte Order Array: [1 2 3]\n"
     ]
    }
   ],
   "source": [
    "import numpy as np\n",
    "# Given NumPy array\n",
    "arr = np.array([1, 2, 3], dtype=np.int32)\n",
    "# Check the system's endianness\n",
    "if np.little_endian:\n",
    "    # If the system is little-endian, swap to big-endian\n",
    "    swapped_arr = arr.view(arr.dtype.newbyteorder('<'))\n",
    "else:\n",
    "    # If the system is big-endian, swap to little-endian\n",
    "    swapped_arr = arr.view(arr.dtype.newbyteorder('<'))\n",
    "print(\"Original Array:\", arr)\n",
    "print(\"Swapped Byte Order Array:\", swapped_arr)\n"
   ]
  },
  {
   "cell_type": "markdown",
   "id": "181cafe5-23f8-4189-954d-96e57271ca37",
   "metadata": {},
   "source": [
    "Q.75 For the given NumPy array, check if byte swapping is necessary for the current system using `dtype` attribute `byteorder`. \n",
    "arr = np.array([1, 2, 3], dtype=np.int32)"
   ]
  },
  {
   "cell_type": "code",
   "execution_count": 27,
   "id": "5a17ae92-d4ec-48aa-8251-13c995323162",
   "metadata": {},
   "outputs": [
    {
     "name": "stdout",
     "output_type": "stream",
     "text": [
      "The array is in native byte order. No byte swapping is necessary.\n",
      "Array: [1 2 3]\n",
      "Byte Order: =\n"
     ]
    }
   ],
   "source": [
    "import numpy as np\n",
    "\n",
    "# Given NumPy array\n",
    "arr = np.array([1, 2, 3], dtype=np.int32)\n",
    "\n",
    "# Check the byte order of the array\n",
    "byte_order = arr.dtype.byteorder\n",
    "\n",
    "# Determine if byte swapping is necessary\n",
    "if byte_order == '=':\n",
    "    print(\"The array is in native byte order. No byte swapping is necessary.\")\n",
    "elif (byte_order == '<' and not np.little_endian) or (byte_order == '>' and np.little_endian):\n",
    "    print(\"Byte swapping is necessary.\")\n",
    "else:\n",
    "    print(\"No byte swapping is necessary.\")\n",
    "\n",
    "print(\"Array:\", arr)\n",
    "print(\"Byte Order:\", byte_order)\n"
   ]
  },
  {
   "cell_type": "markdown",
   "id": "9569fca4-efa6-4854-b185-82dd0b0be75b",
   "metadata": {},
   "source": [
    "Q.76 Create a NumPy array `arr1` with values from 1 to 10. Create a copy of `arr1` named `copy_arr` and modify \n",
    "an element in `copy_arr`. Check if modifying `copy_arr` affects `arr1`."
   ]
  },
  {
   "cell_type": "code",
   "execution_count": 28,
   "id": "b804b241-bc03-4205-8c6f-eb338ae55df6",
   "metadata": {},
   "outputs": [
    {
     "name": "stdout",
     "output_type": "stream",
     "text": [
      "Original array (arr1): [ 1  2  3  4  5  6  7  8  9 10]\n",
      "Copied and modified array (copy_arr): [99  2  3  4  5  6  7  8  9 10]\n"
     ]
    }
   ],
   "source": [
    "import numpy as np\n",
    "\n",
    "# Create the original array\n",
    "arr1 = np.arange(1, 11)\n",
    "\n",
    "# Create a copy of the original array\n",
    "copy_arr = arr1.copy()\n",
    "\n",
    "# Modify an element in the copied array\n",
    "copy_arr[0] = 99\n",
    "\n",
    "# Print both arrays to check if the original array is affected\n",
    "print(\"Original array (arr1):\", arr1)\n",
    "print(\"Copied and modified array (copy_arr):\", copy_arr)\n"
   ]
  },
  {
   "cell_type": "markdown",
   "id": "e3a38572-fbee-4640-9a86-dbc569a4bd61",
   "metadata": {},
   "source": [
    "Q.77 Create a 2D NumPy array `matrix` of shape (3, 3) with random integers. Extract a slice `view_slice` from\n",
    "the matrix. Modify an element in `view_slice` and observe if it changes the original `matrix`."
   ]
  },
  {
   "cell_type": "code",
   "execution_count": 29,
   "id": "9c8ece73-1e9a-45ad-ad98-e2161bf13f36",
   "metadata": {},
   "outputs": [
    {
     "name": "stdout",
     "output_type": "stream",
     "text": [
      "Original matrix:\n",
      " [[ 99  11  89]\n",
      " [ 30 999  15]\n",
      " [ 81  22  54]]\n",
      "View slice:\n",
      " [[999  15]\n",
      " [ 22  54]]\n"
     ]
    }
   ],
   "source": [
    "import numpy as np\n",
    "\n",
    "# Create a 2D array with random integers\n",
    "matrix = np.random.randint(1, 100, size=(3, 3))\n",
    "\n",
    "# Extract a slice from the matrix\n",
    "view_slice = matrix[1:, 1:]\n",
    "\n",
    "# Modify an element in the slice\n",
    "view_slice[0, 0] = 999\n",
    "\n",
    "# Print the original matrix and the slice to observe the changes\n",
    "print(\"Original matrix:\\n\", matrix)\n",
    "print(\"View slice:\\n\", view_slice)\n"
   ]
  },
  {
   "cell_type": "markdown",
   "id": "84cd00d4-c2d0-4ba9-9412-0ff62648e048",
   "metadata": {},
   "source": [
    "Q.78 Create a NumPy array `array_a` of shape (4, 3) with sequential integers from 1 to 12. Extract a slice\n",
    "`view_b` from `array_a` and broadcast the addition of 5 to view_b. Check if it alters the original `array_a`.\n"
   ]
  },
  {
   "cell_type": "code",
   "execution_count": 30,
   "id": "7dd1e7f8-c20b-415e-bb52-78cd60a7524d",
   "metadata": {},
   "outputs": [
    {
     "name": "stdout",
     "output_type": "stream",
     "text": [
      "array_a after broadcasting addition to view_b:\n",
      " [[ 1  7  8]\n",
      " [ 4 10 11]\n",
      " [ 7 13 14]\n",
      " [10 16 17]]\n"
     ]
    }
   ],
   "source": [
    "import numpy as np\n",
    "\n",
    "# Create the array_a with shape (4, 3) and sequential integers from 1 to 12\n",
    "array_a = np.arange(1, 13).reshape(4, 3)\n",
    "\n",
    "# Extract a slice view_b from array_a\n",
    "view_b = array_a[:, 1:3]\n",
    "\n",
    "# Broadcast the addition of 5 to view_b\n",
    "view_b += 5\n",
    "\n",
    "# Check if it alters the original array_a\n",
    "print(\"array_a after broadcasting addition to view_b:\\n\", array_a)\n"
   ]
  },
  {
   "cell_type": "markdown",
   "id": "fc26ade7-93a9-4a3c-a079-dc377f6123fe",
   "metadata": {},
   "source": [
    "Q.79 Create a NumPy array `orig_array` of shape (2, 4) with values from 1 to 8. Create a reshaped view\n",
    "`reshaped_view` of shape (4, 2) from orig_array. Modify an element in `reshaped_view` and check if it\n",
    "reflects changes in the original `orig_array`."
   ]
  },
  {
   "cell_type": "code",
   "execution_count": 31,
   "id": "a7a9e3cc-6e3a-4a07-9af1-1cdbf8b7a743",
   "metadata": {},
   "outputs": [
    {
     "name": "stdout",
     "output_type": "stream",
     "text": [
      "orig_array after modifying reshaped_view:\n",
      " [[99  2  3  4]\n",
      " [ 5  6  7  8]]\n"
     ]
    }
   ],
   "source": [
    "import numpy as np\n",
    "\n",
    "# Create the orig_array with shape (2, 4) and values from 1 to 8\n",
    "orig_array = np.arange(1, 9).reshape(2, 4)\n",
    "\n",
    "# Create a reshaped view of shape (4, 2) from orig_array\n",
    "reshaped_view = orig_array.reshape(4, 2)\n",
    "\n",
    "# Modify an element in reshaped_view\n",
    "reshaped_view[0, 0] = 99\n",
    "\n",
    "# Check if it reflects changes in the original orig_array\n",
    "print(\"orig_array after modifying reshaped_view:\\n\", orig_array)\n"
   ]
  },
  {
   "cell_type": "markdown",
   "id": "131fd72a-a950-4cba-b725-6ea77c86ff47",
   "metadata": {},
   "source": [
    "Q.80 Create a NumPy array `data` of shape (3, 4) with random integers. Extract a copy `data_copy` of\n",
    "elements greater than 5. Modify an element in `data_copy` and verify if it affects the original `data`.\n"
   ]
  },
  {
   "cell_type": "code",
   "execution_count": 32,
   "id": "a3a7b922-623f-4eb0-b123-0c0f9ff834eb",
   "metadata": {},
   "outputs": [
    {
     "name": "stdout",
     "output_type": "stream",
     "text": [
      "Original data array:\n",
      " [[9 2 7 9]\n",
      " [9 2 5 1]\n",
      " [6 6 9 3]]\n",
      "Modified data_copy array:\n",
      " [99  7  9  9  6  6  9]\n"
     ]
    }
   ],
   "source": [
    "import numpy as np\n",
    "\n",
    "# Create the data array with shape (3, 4) and random integers\n",
    "data = np.random.randint(1, 10, size=(3, 4))\n",
    "\n",
    "# Extract a copy of elements greater than 5\n",
    "data_copy = data[data > 5].copy()\n",
    "\n",
    "# Modify an element in data_copy\n",
    "if data_copy.size > 0:\n",
    "    data_copy[0] = 99\n",
    "\n",
    "# Check if it affects the original data\n",
    "print(\"Original data array:\\n\", data)\n",
    "print(\"Modified data_copy array:\\n\", data_copy)\n"
   ]
  },
  {
   "cell_type": "markdown",
   "id": "e3334c06-57a7-4f35-b7aa-20404f0988ae",
   "metadata": {},
   "source": [
    "Q.81 Create two matrices A and B of identical shape containing integers and perform addition and subtraction\n",
    "operations between them."
   ]
  },
  {
   "cell_type": "code",
   "execution_count": 33,
   "id": "82f11c1d-cbee-4b09-a4bb-ab189ca184b0",
   "metadata": {},
   "outputs": [
    {
     "name": "stdout",
     "output_type": "stream",
     "text": [
      "Matrix A:\n",
      " [[1 2 3]\n",
      " [4 5 6]\n",
      " [7 8 9]]\n",
      "Matrix B:\n",
      " [[9 8 7]\n",
      " [6 5 4]\n",
      " [3 2 1]]\n",
      "Addition of A and B:\n",
      " [[10 10 10]\n",
      " [10 10 10]\n",
      " [10 10 10]]\n",
      "Subtraction of A and B:\n",
      " [[-8 -6 -4]\n",
      " [-2  0  2]\n",
      " [ 4  6  8]]\n"
     ]
    }
   ],
   "source": [
    "import numpy as np\n",
    "\n",
    "# Create two matrices A and B of shape (3, 3) with integers\n",
    "A = np.array([[1, 2, 3], [4, 5, 6], [7, 8, 9]])\n",
    "B = np.array([[9, 8, 7], [6, 5, 4], [3, 2, 1]])\n",
    "\n",
    "# Perform addition\n",
    "addition_result = A + B\n",
    "\n",
    "# Perform subtraction\n",
    "subtraction_result = A - B\n",
    "\n",
    "print(\"Matrix A:\\n\", A)\n",
    "print(\"Matrix B:\\n\", B)\n",
    "print(\"Addition of A and B:\\n\", addition_result)\n",
    "print(\"Subtraction of A and B:\\n\", subtraction_result)\n"
   ]
  },
  {
   "cell_type": "markdown",
   "id": "79bab107-073f-4080-9f72-34e0e4790b7d",
   "metadata": {},
   "source": [
    "Q.82 Generate two matrices `C` (3x2) and `D` (2x4) and perform matrix multiplication.\n"
   ]
  },
  {
   "cell_type": "code",
   "execution_count": 34,
   "id": "68feeb87-a4cb-41bd-9b48-f9451fcc6106",
   "metadata": {},
   "outputs": [
    {
     "name": "stdout",
     "output_type": "stream",
     "text": [
      "Matrix C:\n",
      " [[1 2]\n",
      " [3 4]\n",
      " [5 6]]\n",
      "Matrix D:\n",
      " [[ 7  8  9 10]\n",
      " [11 12 13 14]]\n",
      "Result of matrix multiplication (C @ D):\n",
      " [[ 29  32  35  38]\n",
      " [ 65  72  79  86]\n",
      " [101 112 123 134]]\n"
     ]
    }
   ],
   "source": [
    "import numpy as np\n",
    "\n",
    "# Create matrix C of shape (3, 2) with integers\n",
    "C = np.array([[1, 2], [3, 4], [5, 6]])\n",
    "\n",
    "# Create matrix D of shape (2, 4) with integers\n",
    "D = np.array([[7, 8, 9, 10], [11, 12, 13, 14]])\n",
    "\n",
    "# Perform matrix multiplication\n",
    "result = np.matmul(C, D)\n",
    "\n",
    "print(\"Matrix C:\\n\", C)\n",
    "print(\"Matrix D:\\n\", D)\n",
    "print(\"Result of matrix multiplication (C @ D):\\n\", result)\n"
   ]
  },
  {
   "cell_type": "markdown",
   "id": "f8f5b686-d9aa-4523-88c1-304378687c32",
   "metadata": {},
   "source": [
    "Q.83 reate a matrix `E` and find its transpose."
   ]
  },
  {
   "cell_type": "code",
   "execution_count": 35,
   "id": "ddbe0fcb-cea9-4f1a-b486-d7a06fcb5f24",
   "metadata": {},
   "outputs": [
    {
     "name": "stdout",
     "output_type": "stream",
     "text": [
      "Matrix E:\n",
      " [[1 2 3]\n",
      " [4 5 6]\n",
      " [7 8 9]]\n",
      "Transpose of matrix E:\n",
      " [[1 4 7]\n",
      " [2 5 8]\n",
      " [3 6 9]]\n"
     ]
    }
   ],
   "source": [
    "import numpy as np\n",
    "\n",
    "# Create the matrix E\n",
    "E = np.array([[1, 2, 3], [4, 5, 6], [7, 8, 9]])\n",
    "\n",
    "# Find the transpose of matrix E\n",
    "E_transpose = E.T\n",
    "\n",
    "print(\"Matrix E:\\n\", E)\n",
    "print(\"Transpose of matrix E:\\n\", E_transpose)\n"
   ]
  },
  {
   "cell_type": "markdown",
   "id": "fec552df-9ceb-475f-bc48-98fbf47c0ba1",
   "metadata": {},
   "source": [
    "Generate a square matrix `F` and compute its determinant.\n"
   ]
  },
  {
   "cell_type": "code",
   "execution_count": 36,
   "id": "d67ec84c-11c3-48b2-8e2a-5d1e9959ef4a",
   "metadata": {},
   "outputs": [
    {
     "name": "stdout",
     "output_type": "stream",
     "text": [
      "Matrix F:\n",
      " [[4 5 2]\n",
      " [3 9 7]\n",
      " [9 3 5]]\n",
      "Determinant of matrix F: 192.0\n"
     ]
    }
   ],
   "source": [
    "import numpy as np\n",
    "\n",
    "# Create a square matrix F of shape (3, 3) with random integers\n",
    "F = np.random.randint(1, 10, size=(3, 3))\n",
    "\n",
    "# Compute the determinant of matrix F\n",
    "det_F = np.linalg.det(F)\n",
    "\n",
    "print(\"Matrix F:\\n\", F)\n",
    "print(\"Determinant of matrix F:\", det_F)\n"
   ]
  },
  {
   "cell_type": "markdown",
   "id": "8702447d-b080-46ce-80bf-9465913481f2",
   "metadata": {},
   "source": [
    "Create a square matrix `G` and find its inverse."
   ]
  },
  {
   "cell_type": "code",
   "execution_count": 37,
   "id": "15c6b352-19c8-492f-84da-08a43570d335",
   "metadata": {},
   "outputs": [
    {
     "name": "stdout",
     "output_type": "stream",
     "text": [
      "Matrix G:\n",
      " [[6 1 1]\n",
      " [9 8 8]\n",
      " [4 9 7]]\n",
      "Inverse of matrix G:\n",
      " [[ 0.20512821 -0.02564103  0.        ]\n",
      " [ 0.3974359  -0.48717949  0.5       ]\n",
      " [-0.62820513  0.64102564 -0.5       ]]\n"
     ]
    }
   ],
   "source": [
    "import numpy as np\n",
    "\n",
    "# Create a square matrix G of shape (3, 3) with random integers\n",
    "G = np.random.randint(1, 10, size=(3, 3))\n",
    "\n",
    "# Compute the inverse of matrix G\n",
    "G_inverse = np.linalg.inv(G)\n",
    "\n",
    "print(\"Matrix G:\\n\", G)\n",
    "print(\"Inverse of matrix G:\\n\", G_inverse)\n"
   ]
  },
  {
   "cell_type": "code",
   "execution_count": null,
   "id": "cde745e9-a66d-40e6-90ab-1e542f52d640",
   "metadata": {},
   "outputs": [],
   "source": []
  }
 ],
 "metadata": {
  "kernelspec": {
   "display_name": "Python 3 (ipykernel)",
   "language": "python",
   "name": "python3"
  },
  "language_info": {
   "codemirror_mode": {
    "name": "ipython",
    "version": 3
   },
   "file_extension": ".py",
   "mimetype": "text/x-python",
   "name": "python",
   "nbconvert_exporter": "python",
   "pygments_lexer": "ipython3",
   "version": "3.12.5"
  }
 },
 "nbformat": 4,
 "nbformat_minor": 5
}
